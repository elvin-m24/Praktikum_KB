{
 "cells": [
  {
   "cell_type": "markdown",
   "id": "1b1cf095",
   "metadata": {},
   "source": [
    "## Import Package\n",
    "\n",
    "Import Package yang diperlukan untuk : \\\n",
    "Data Split \\\n",
    "Data Transforming \\\n",
    "Data Cleaning \\\n",
    "Encoding"
   ]
  },
  {
   "cell_type": "code",
   "execution_count": 323,
   "id": "a3411580",
   "metadata": {},
   "outputs": [],
   "source": [
    "import pandas as pd\n",
    "import numpy as np\n",
    "from sklearn.model_selection import train_test_split\n",
    "from sklearn.preprocessing import StandardScaler\n",
    "from sklearn.preprocessing import MinMaxScaler\n",
    "from sklearn.impute import SimpleImputer\n",
    "from sklearn.preprocessing import OneHotEncoder"
   ]
  },
  {
   "cell_type": "markdown",
   "id": "26763752",
   "metadata": {},
   "source": [
    "## Membaca Dataset"
   ]
  },
  {
   "cell_type": "code",
   "execution_count": 324,
   "id": "c3c16a2a",
   "metadata": {},
   "outputs": [
    {
     "data": {
      "text/html": [
       "<div>\n",
       "<style scoped>\n",
       "    .dataframe tbody tr th:only-of-type {\n",
       "        vertical-align: middle;\n",
       "    }\n",
       "\n",
       "    .dataframe tbody tr th {\n",
       "        vertical-align: top;\n",
       "    }\n",
       "\n",
       "    .dataframe thead th {\n",
       "        text-align: right;\n",
       "    }\n",
       "</style>\n",
       "<table border=\"1\" class=\"dataframe\">\n",
       "  <thead>\n",
       "    <tr style=\"text-align: right;\">\n",
       "      <th></th>\n",
       "      <th>Rank</th>\n",
       "      <th>Name</th>\n",
       "      <th>Platform</th>\n",
       "      <th>Year</th>\n",
       "      <th>Genre</th>\n",
       "      <th>Publisher</th>\n",
       "      <th>NA_Sales</th>\n",
       "      <th>EU_Sales</th>\n",
       "      <th>JP_Sales</th>\n",
       "      <th>Other_Sales</th>\n",
       "      <th>Global_Sales</th>\n",
       "    </tr>\n",
       "  </thead>\n",
       "  <tbody>\n",
       "    <tr>\n",
       "      <th>0</th>\n",
       "      <td>1.0</td>\n",
       "      <td>Wii Sports</td>\n",
       "      <td>Wii</td>\n",
       "      <td>2006.0</td>\n",
       "      <td>Sports</td>\n",
       "      <td>Nintendo</td>\n",
       "      <td>41.49</td>\n",
       "      <td>29.02</td>\n",
       "      <td>3.77</td>\n",
       "      <td>8.46</td>\n",
       "      <td>82.74</td>\n",
       "    </tr>\n",
       "    <tr>\n",
       "      <th>1</th>\n",
       "      <td>2.0</td>\n",
       "      <td>Super Mario Bros.</td>\n",
       "      <td>NES</td>\n",
       "      <td>1985.0</td>\n",
       "      <td>Platform</td>\n",
       "      <td>Nintendo</td>\n",
       "      <td>29.08</td>\n",
       "      <td>3.58</td>\n",
       "      <td>6.81</td>\n",
       "      <td>0.77</td>\n",
       "      <td>40.24</td>\n",
       "    </tr>\n",
       "    <tr>\n",
       "      <th>2</th>\n",
       "      <td>3.0</td>\n",
       "      <td>Mario Kart Wii</td>\n",
       "      <td>Wii</td>\n",
       "      <td>2008.0</td>\n",
       "      <td>Racing</td>\n",
       "      <td>Nintendo</td>\n",
       "      <td>15.85</td>\n",
       "      <td>12.88</td>\n",
       "      <td>3.79</td>\n",
       "      <td>3.31</td>\n",
       "      <td>35.82</td>\n",
       "    </tr>\n",
       "    <tr>\n",
       "      <th>3</th>\n",
       "      <td>4.0</td>\n",
       "      <td>Wii Sports Resort</td>\n",
       "      <td>Wii</td>\n",
       "      <td>2009.0</td>\n",
       "      <td>Sports</td>\n",
       "      <td>Nintendo</td>\n",
       "      <td>15.75</td>\n",
       "      <td>11.01</td>\n",
       "      <td>3.28</td>\n",
       "      <td>2.96</td>\n",
       "      <td>33.00</td>\n",
       "    </tr>\n",
       "    <tr>\n",
       "      <th>4</th>\n",
       "      <td>5.0</td>\n",
       "      <td>Pokemon Red/Pokemon Blue</td>\n",
       "      <td>GB</td>\n",
       "      <td>1996.0</td>\n",
       "      <td>Role-Playing</td>\n",
       "      <td>Nintendo</td>\n",
       "      <td>11.27</td>\n",
       "      <td>8.89</td>\n",
       "      <td>10.22</td>\n",
       "      <td>1.00</td>\n",
       "      <td>31.37</td>\n",
       "    </tr>\n",
       "  </tbody>\n",
       "</table>\n",
       "</div>"
      ],
      "text/plain": [
       "   Rank                      Name Platform    Year         Genre Publisher  \\\n",
       "0   1.0                Wii Sports      Wii  2006.0        Sports  Nintendo   \n",
       "1   2.0         Super Mario Bros.      NES  1985.0      Platform  Nintendo   \n",
       "2   3.0            Mario Kart Wii      Wii  2008.0        Racing  Nintendo   \n",
       "3   4.0         Wii Sports Resort      Wii  2009.0        Sports  Nintendo   \n",
       "4   5.0  Pokemon Red/Pokemon Blue       GB  1996.0  Role-Playing  Nintendo   \n",
       "\n",
       "   NA_Sales  EU_Sales  JP_Sales  Other_Sales  Global_Sales  \n",
       "0     41.49     29.02      3.77         8.46         82.74  \n",
       "1     29.08      3.58      6.81         0.77         40.24  \n",
       "2     15.85     12.88      3.79         3.31         35.82  \n",
       "3     15.75     11.01      3.28         2.96         33.00  \n",
       "4     11.27      8.89     10.22         1.00         31.37  "
      ]
     },
     "execution_count": 324,
     "metadata": {},
     "output_type": "execute_result"
    }
   ],
   "source": [
    "df = pd.read_csv('vgsales.csv')\n",
    "\n",
    "df.head()"
   ]
  },
  {
   "cell_type": "markdown",
   "id": "659b04c6",
   "metadata": {},
   "source": [
    "## Data Split"
   ]
  },
  {
   "cell_type": "code",
   "execution_count": 325,
   "id": "37e7d700",
   "metadata": {},
   "outputs": [
    {
     "data": {
      "text/plain": [
       "(16604, 11)"
      ]
     },
     "execution_count": 325,
     "metadata": {},
     "output_type": "execute_result"
    }
   ],
   "source": [
    "df.shape"
   ]
  },
  {
   "cell_type": "code",
   "execution_count": 326,
   "id": "8a61246f",
   "metadata": {},
   "outputs": [],
   "source": [
    "X = df.iloc[:,:-1]\n",
    "y = df.iloc[:,-1]\n",
    "\n",
    "X_train, X_test, y_train, y_test = train_test_split(X, y, test_size = 0.3)"
   ]
  },
  {
   "cell_type": "code",
   "execution_count": 327,
   "id": "7297835c",
   "metadata": {},
   "outputs": [
    {
     "name": "stdout",
     "output_type": "stream",
     "text": [
      "Dimensi X_train :  (11622, 10)\n",
      "Dimensi X_test  :  (4982, 10)\n",
      "Dimensi y_train :  (11622,)\n",
      "Dimensi y_test  :  (4982,)\n"
     ]
    }
   ],
   "source": [
    "\n",
    "print(\"Dimensi X_train : \", X_train.shape)\n",
    "print(\"Dimensi X_test  : \", X_test.shape)\n",
    "print(\"Dimensi y_train : \", y_train.shape)\n",
    "print(\"Dimensi y_test  : \", y_test.shape)\n"
   ]
  },
  {
   "cell_type": "markdown",
   "id": "17d36e4e",
   "metadata": {},
   "source": [
    "## Membuat Copy Dataset"
   ]
  },
  {
   "cell_type": "code",
   "execution_count": 328,
   "id": "87d291b6",
   "metadata": {},
   "outputs": [],
   "source": [
    "dnormalisasi = df.copy() \n",
    "dstandarisasi = df.copy() \n"
   ]
  },
  {
   "cell_type": "markdown",
   "id": "c235c258",
   "metadata": {},
   "source": [
    "## Normalisasi"
   ]
  },
  {
   "cell_type": "code",
   "execution_count": 329,
   "id": "949550dd",
   "metadata": {},
   "outputs": [],
   "source": [
    "min_max_scaler = MinMaxScaler()"
   ]
  },
  {
   "cell_type": "code",
   "execution_count": 330,
   "id": "9dcf2df3",
   "metadata": {},
   "outputs": [
    {
     "data": {
      "text/html": [
       "<div>\n",
       "<style scoped>\n",
       "    .dataframe tbody tr th:only-of-type {\n",
       "        vertical-align: middle;\n",
       "    }\n",
       "\n",
       "    .dataframe tbody tr th {\n",
       "        vertical-align: top;\n",
       "    }\n",
       "\n",
       "    .dataframe thead th {\n",
       "        text-align: right;\n",
       "    }\n",
       "</style>\n",
       "<table border=\"1\" class=\"dataframe\">\n",
       "  <thead>\n",
       "    <tr style=\"text-align: right;\">\n",
       "      <th></th>\n",
       "      <th>NA_Sales</th>\n",
       "      <th>EU_Sales</th>\n",
       "      <th>JP_Sales</th>\n",
       "      <th>Global_Sales</th>\n",
       "      <th>Other_Sales</th>\n",
       "    </tr>\n",
       "  </thead>\n",
       "  <tbody>\n",
       "    <tr>\n",
       "      <th>0</th>\n",
       "      <td>1.000000</td>\n",
       "      <td>1.000000</td>\n",
       "      <td>0.368885</td>\n",
       "      <td>0.800378</td>\n",
       "      <td>1.000000</td>\n",
       "    </tr>\n",
       "    <tr>\n",
       "      <th>1</th>\n",
       "      <td>0.700892</td>\n",
       "      <td>0.123363</td>\n",
       "      <td>0.666341</td>\n",
       "      <td>0.072848</td>\n",
       "      <td>0.486281</td>\n",
       "    </tr>\n",
       "    <tr>\n",
       "      <th>2</th>\n",
       "      <td>0.382020</td>\n",
       "      <td>0.443832</td>\n",
       "      <td>0.370841</td>\n",
       "      <td>0.313150</td>\n",
       "      <td>0.432854</td>\n",
       "    </tr>\n",
       "    <tr>\n",
       "      <th>3</th>\n",
       "      <td>0.379610</td>\n",
       "      <td>0.379394</td>\n",
       "      <td>0.320939</td>\n",
       "      <td>0.280038</td>\n",
       "      <td>0.398767</td>\n",
       "    </tr>\n",
       "    <tr>\n",
       "      <th>4</th>\n",
       "      <td>0.271632</td>\n",
       "      <td>0.306340</td>\n",
       "      <td>1.000000</td>\n",
       "      <td>0.094607</td>\n",
       "      <td>0.379064</td>\n",
       "    </tr>\n",
       "  </tbody>\n",
       "</table>\n",
       "</div>"
      ],
      "text/plain": [
       "   NA_Sales  EU_Sales  JP_Sales  Global_Sales  Other_Sales\n",
       "0  1.000000  1.000000  0.368885      0.800378     1.000000\n",
       "1  0.700892  0.123363  0.666341      0.072848     0.486281\n",
       "2  0.382020  0.443832  0.370841      0.313150     0.432854\n",
       "3  0.379610  0.379394  0.320939      0.280038     0.398767\n",
       "4  0.271632  0.306340  1.000000      0.094607     0.379064"
      ]
     },
     "execution_count": 330,
     "metadata": {},
     "output_type": "execute_result"
    }
   ],
   "source": [
    "normalisasi = min_max_scaler.fit_transform(dnormalisasi[['NA_Sales', 'EU_Sales', 'JP_Sales', 'Other_Sales', 'Global_Sales']])\n",
    "\n",
    "hasil_normalisasi = pd.DataFrame(normalisasi)\n",
    "hasil_normalisasi.rename(columns={0 : 'NA_Sales', 1 : 'EU_Sales', 2 : 'JP_Sales', 3 : 'Global_Sales', 4 : 'Other_Sales'}, inplace=True)\n",
    "\n",
    "hasil_normalisasi.head()"
   ]
  },
  {
   "cell_type": "markdown",
   "id": "fd7e4f9e",
   "metadata": {},
   "source": [
    "## Standarisasi"
   ]
  },
  {
   "cell_type": "code",
   "execution_count": 331,
   "id": "15b709c5",
   "metadata": {},
   "outputs": [],
   "source": [
    "standar_scaler = StandardScaler()"
   ]
  },
  {
   "cell_type": "code",
   "execution_count": 332,
   "id": "15288dd8",
   "metadata": {},
   "outputs": [
    {
     "data": {
      "text/html": [
       "<div>\n",
       "<style scoped>\n",
       "    .dataframe tbody tr th:only-of-type {\n",
       "        vertical-align: middle;\n",
       "    }\n",
       "\n",
       "    .dataframe tbody tr th {\n",
       "        vertical-align: top;\n",
       "    }\n",
       "\n",
       "    .dataframe thead th {\n",
       "        text-align: right;\n",
       "    }\n",
       "</style>\n",
       "<table border=\"1\" class=\"dataframe\">\n",
       "  <thead>\n",
       "    <tr style=\"text-align: right;\">\n",
       "      <th></th>\n",
       "      <th>NA_Sales</th>\n",
       "      <th>EU_Sales</th>\n",
       "      <th>JP_Sales</th>\n",
       "      <th>Global_Sales</th>\n",
       "      <th>Other_Sales</th>\n",
       "    </tr>\n",
       "  </thead>\n",
       "  <tbody>\n",
       "    <tr>\n",
       "      <th>0</th>\n",
       "      <td>50.482317</td>\n",
       "      <td>55.615147</td>\n",
       "      <td>11.940170</td>\n",
       "      <td>44.513897</td>\n",
       "      <td>52.646713</td>\n",
       "    </tr>\n",
       "    <tr>\n",
       "      <th>1</th>\n",
       "      <td>35.285606</td>\n",
       "      <td>6.609385</td>\n",
       "      <td>21.771072</td>\n",
       "      <td>3.819155</td>\n",
       "      <td>25.426638</td>\n",
       "    </tr>\n",
       "    <tr>\n",
       "      <th>2</th>\n",
       "      <td>19.084760</td>\n",
       "      <td>24.524227</td>\n",
       "      <td>12.004847</td>\n",
       "      <td>17.260592</td>\n",
       "      <td>22.595751</td>\n",
       "    </tr>\n",
       "    <tr>\n",
       "      <th>3</th>\n",
       "      <td>18.962305</td>\n",
       "      <td>20.921995</td>\n",
       "      <td>10.355583</td>\n",
       "      <td>15.408425</td>\n",
       "      <td>20.789619</td>\n",
       "    </tr>\n",
       "    <tr>\n",
       "      <th>4</th>\n",
       "      <td>13.476304</td>\n",
       "      <td>16.838182</td>\n",
       "      <td>32.798499</td>\n",
       "      <td>5.036293</td>\n",
       "      <td>19.745649</td>\n",
       "    </tr>\n",
       "  </tbody>\n",
       "</table>\n",
       "</div>"
      ],
      "text/plain": [
       "    NA_Sales   EU_Sales   JP_Sales  Global_Sales  Other_Sales\n",
       "0  50.482317  55.615147  11.940170     44.513897    52.646713\n",
       "1  35.285606   6.609385  21.771072      3.819155    25.426638\n",
       "2  19.084760  24.524227  12.004847     17.260592    22.595751\n",
       "3  18.962305  20.921995  10.355583     15.408425    20.789619\n",
       "4  13.476304  16.838182  32.798499      5.036293    19.745649"
      ]
     },
     "execution_count": 332,
     "metadata": {},
     "output_type": "execute_result"
    }
   ],
   "source": [
    "standarisasi = standar_scaler.fit_transform(dstandarisasi[['NA_Sales', 'EU_Sales', 'JP_Sales', 'Other_Sales', 'Global_Sales']])\n",
    "\n",
    "np.std(standarisasi)\n",
    "\n",
    "hasil_standarisasi = pd.DataFrame(standarisasi)\n",
    "hasil_standarisasi.rename(columns={0 : 'NA_Sales', 1 : 'EU_Sales', 2 : 'JP_Sales', 3 : 'Global_Sales', 4 : 'Other_Sales'}, inplace=True)\n",
    "\n",
    "hasil_standarisasi.head()"
   ]
  },
  {
   "cell_type": "markdown",
   "id": "3f848486",
   "metadata": {},
   "source": [
    "## Data Cleaning"
   ]
  },
  {
   "cell_type": "code",
   "execution_count": 333,
   "id": "30e957ed",
   "metadata": {},
   "outputs": [],
   "source": [
    "dcleaning = df.copy()"
   ]
  },
  {
   "cell_type": "markdown",
   "id": "204ced7c",
   "metadata": {},
   "source": [
    "Menampilkan nilai NULL pada dataset"
   ]
  },
  {
   "cell_type": "code",
   "execution_count": 334,
   "id": "0b393690",
   "metadata": {},
   "outputs": [
    {
     "data": {
      "text/plain": [
       "Rank              3\n",
       "Name              0\n",
       "Platform          0\n",
       "Year            271\n",
       "Genre             0\n",
       "Publisher        58\n",
       "NA_Sales          0\n",
       "EU_Sales          0\n",
       "JP_Sales          0\n",
       "Other_Sales       0\n",
       "Global_Sales      0\n",
       "dtype: int64"
      ]
     },
     "execution_count": 334,
     "metadata": {},
     "output_type": "execute_result"
    }
   ],
   "source": [
    "dcleaning.isna().sum()"
   ]
  },
  {
   "cell_type": "markdown",
   "id": "da8234a9",
   "metadata": {},
   "source": [
    "Tipe Data Attribute di Dataset"
   ]
  },
  {
   "cell_type": "code",
   "execution_count": 335,
   "id": "fd658dfb",
   "metadata": {},
   "outputs": [
    {
     "data": {
      "text/plain": [
       "Rank            float64\n",
       "Name             object\n",
       "Platform         object\n",
       "Year            float64\n",
       "Genre            object\n",
       "Publisher        object\n",
       "NA_Sales        float64\n",
       "EU_Sales        float64\n",
       "JP_Sales        float64\n",
       "Other_Sales     float64\n",
       "Global_Sales    float64\n",
       "dtype: object"
      ]
     },
     "execution_count": 335,
     "metadata": {},
     "output_type": "execute_result"
    }
   ],
   "source": [
    "dcleaning.dtypes"
   ]
  },
  {
   "cell_type": "markdown",
   "id": "e93f885d",
   "metadata": {},
   "source": [
    "Menghapus Nilai NULL pada Dataset"
   ]
  },
  {
   "cell_type": "code",
   "execution_count": 336,
   "id": "db3e2c5c",
   "metadata": {},
   "outputs": [],
   "source": [
    "impute_mean = SimpleImputer(strategy='mean')\n",
    "impute_median = SimpleImputer(strategy='median')\n",
    "impute_modus = SimpleImputer(strategy='most_frequent' )"
   ]
  },
  {
   "cell_type": "code",
   "execution_count": 342,
   "id": "dded63b3",
   "metadata": {},
   "outputs": [
    {
     "name": "stdout",
     "output_type": "stream",
     "text": [
      "Jumlah Nilai Null Setelah Dihapus :\n"
     ]
    },
    {
     "data": {
      "text/plain": [
       "Rank            0\n",
       "Name            0\n",
       "Platform        0\n",
       "Year            0\n",
       "Genre           0\n",
       "Publisher       0\n",
       "NA_Sales        0\n",
       "EU_Sales        0\n",
       "JP_Sales        0\n",
       "Other_Sales     0\n",
       "Global_Sales    0\n",
       "dtype: int64"
      ]
     },
     "execution_count": 342,
     "metadata": {},
     "output_type": "execute_result"
    }
   ],
   "source": [
    "dcleaning['Rank'] = impute_median.fit_transform(dcleaning[['Rank']])\n",
    "dcleaning['Year'] = impute_mean.fit_transform(dcleaning[['Year']])\n",
    "dcleaning['Publisher'] = impute_modus.fit_transform(dcleaning[['Publisher']])\n",
    "\n",
    "print('Jumlah Nilai Null Setelah Dihapus :')\n",
    "dcleaning.isna().sum()"
   ]
  },
  {
   "cell_type": "markdown",
   "id": "60534ae6",
   "metadata": {},
   "source": [
    "Menghapus Data Duplikat pada Dataset"
   ]
  },
  {
   "cell_type": "code",
   "execution_count": 343,
   "id": "fd783f3b",
   "metadata": {},
   "outputs": [
    {
     "name": "stdout",
     "output_type": "stream",
     "text": [
      "Jumlah Data Duplikat Sebelum Dihapus : 5\n"
     ]
    }
   ],
   "source": [
    "print('Jumlah Data Duplikat Sebelum Dihapus :',dcleaning.duplicated().sum())"
   ]
  },
  {
   "cell_type": "code",
   "execution_count": 344,
   "id": "e4ae12f4",
   "metadata": {},
   "outputs": [
    {
     "name": "stdout",
     "output_type": "stream",
     "text": [
      "Jumlah Data Duplikat Setelah Dihapus : 0\n"
     ]
    }
   ],
   "source": [
    "dcleaning.drop_duplicates(inplace=True)\n",
    "print('Jumlah Data Duplikat Setelah Dihapus :',dcleaning.duplicated().sum())"
   ]
  },
  {
   "cell_type": "markdown",
   "id": "2fde6d0c",
   "metadata": {},
   "source": [
    "Mengubah Tipe Data pada Salah Satu Attribute"
   ]
  },
  {
   "cell_type": "code",
   "execution_count": 345,
   "id": "1e8707ad",
   "metadata": {},
   "outputs": [
    {
     "name": "stdout",
     "output_type": "stream",
     "text": [
      "Sebelum Tipe Data Year Diubah :\n"
     ]
    },
    {
     "data": {
      "text/plain": [
       "dtype('float64')"
      ]
     },
     "execution_count": 345,
     "metadata": {},
     "output_type": "execute_result"
    }
   ],
   "source": [
    "print('Sebelum Tipe Data Year Diubah :')\n",
    "dcleaning[\"Year\"].dtypes"
   ]
  },
  {
   "cell_type": "code",
   "execution_count": 347,
   "id": "bb9b2479",
   "metadata": {},
   "outputs": [
    {
     "name": "stdout",
     "output_type": "stream",
     "text": [
      "Setelah Tipe Data Year Diubah :\n"
     ]
    },
    {
     "data": {
      "text/plain": [
       "dtype('int64')"
      ]
     },
     "execution_count": 347,
     "metadata": {},
     "output_type": "execute_result"
    }
   ],
   "source": [
    "print('Setelah Tipe Data Year Diubah :')\n",
    "dcleaning['Year'] = dcleaning['Year'].astype('int64')\n",
    "dcleaning[\"Year\"].dtypes"
   ]
  },
  {
   "cell_type": "markdown",
   "id": "8253e1a9",
   "metadata": {},
   "source": [
    "## Encoding\n",
    "\n",
    "Menggunakan Metode One Hot Encoding"
   ]
  },
  {
   "cell_type": "code",
   "execution_count": null,
   "id": "1d7d1a01",
   "metadata": {},
   "outputs": [
    {
     "data": {
      "text/html": [
       "<div>\n",
       "<style scoped>\n",
       "    .dataframe tbody tr th:only-of-type {\n",
       "        vertical-align: middle;\n",
       "    }\n",
       "\n",
       "    .dataframe tbody tr th {\n",
       "        vertical-align: top;\n",
       "    }\n",
       "\n",
       "    .dataframe thead th {\n",
       "        text-align: right;\n",
       "    }\n",
       "</style>\n",
       "<table border=\"1\" class=\"dataframe\">\n",
       "  <thead>\n",
       "    <tr style=\"text-align: right;\">\n",
       "      <th></th>\n",
       "      <th>Name</th>\n",
       "      <th>Year</th>\n",
       "      <th>Genre</th>\n",
       "      <th>0</th>\n",
       "      <th>1</th>\n",
       "      <th>2</th>\n",
       "      <th>3</th>\n",
       "      <th>4</th>\n",
       "      <th>5</th>\n",
       "      <th>6</th>\n",
       "      <th>7</th>\n",
       "      <th>8</th>\n",
       "      <th>9</th>\n",
       "      <th>10</th>\n",
       "      <th>11</th>\n",
       "    </tr>\n",
       "  </thead>\n",
       "  <tbody>\n",
       "    <tr>\n",
       "      <th>0</th>\n",
       "      <td>Wii Sports</td>\n",
       "      <td>2006.0</td>\n",
       "      <td>Sports</td>\n",
       "      <td>0.0</td>\n",
       "      <td>0.0</td>\n",
       "      <td>0.0</td>\n",
       "      <td>0.0</td>\n",
       "      <td>0.0</td>\n",
       "      <td>0.0</td>\n",
       "      <td>0.0</td>\n",
       "      <td>0.0</td>\n",
       "      <td>0.0</td>\n",
       "      <td>0.0</td>\n",
       "      <td>1.0</td>\n",
       "      <td>0.0</td>\n",
       "    </tr>\n",
       "    <tr>\n",
       "      <th>1</th>\n",
       "      <td>Super Mario Bros.</td>\n",
       "      <td>1985.0</td>\n",
       "      <td>Platform</td>\n",
       "      <td>0.0</td>\n",
       "      <td>0.0</td>\n",
       "      <td>0.0</td>\n",
       "      <td>0.0</td>\n",
       "      <td>1.0</td>\n",
       "      <td>0.0</td>\n",
       "      <td>0.0</td>\n",
       "      <td>0.0</td>\n",
       "      <td>0.0</td>\n",
       "      <td>0.0</td>\n",
       "      <td>0.0</td>\n",
       "      <td>0.0</td>\n",
       "    </tr>\n",
       "    <tr>\n",
       "      <th>2</th>\n",
       "      <td>Mario Kart Wii</td>\n",
       "      <td>2008.0</td>\n",
       "      <td>Racing</td>\n",
       "      <td>0.0</td>\n",
       "      <td>0.0</td>\n",
       "      <td>0.0</td>\n",
       "      <td>0.0</td>\n",
       "      <td>0.0</td>\n",
       "      <td>0.0</td>\n",
       "      <td>1.0</td>\n",
       "      <td>0.0</td>\n",
       "      <td>0.0</td>\n",
       "      <td>0.0</td>\n",
       "      <td>0.0</td>\n",
       "      <td>0.0</td>\n",
       "    </tr>\n",
       "    <tr>\n",
       "      <th>3</th>\n",
       "      <td>Wii Sports Resort</td>\n",
       "      <td>2009.0</td>\n",
       "      <td>Sports</td>\n",
       "      <td>0.0</td>\n",
       "      <td>0.0</td>\n",
       "      <td>0.0</td>\n",
       "      <td>0.0</td>\n",
       "      <td>0.0</td>\n",
       "      <td>0.0</td>\n",
       "      <td>0.0</td>\n",
       "      <td>0.0</td>\n",
       "      <td>0.0</td>\n",
       "      <td>0.0</td>\n",
       "      <td>1.0</td>\n",
       "      <td>0.0</td>\n",
       "    </tr>\n",
       "    <tr>\n",
       "      <th>4</th>\n",
       "      <td>Pokemon Red/Pokemon Blue</td>\n",
       "      <td>1996.0</td>\n",
       "      <td>Role-Playing</td>\n",
       "      <td>0.0</td>\n",
       "      <td>0.0</td>\n",
       "      <td>0.0</td>\n",
       "      <td>0.0</td>\n",
       "      <td>0.0</td>\n",
       "      <td>0.0</td>\n",
       "      <td>0.0</td>\n",
       "      <td>1.0</td>\n",
       "      <td>0.0</td>\n",
       "      <td>0.0</td>\n",
       "      <td>0.0</td>\n",
       "      <td>0.0</td>\n",
       "    </tr>\n",
       "    <tr>\n",
       "      <th>...</th>\n",
       "      <td>...</td>\n",
       "      <td>...</td>\n",
       "      <td>...</td>\n",
       "      <td>...</td>\n",
       "      <td>...</td>\n",
       "      <td>...</td>\n",
       "      <td>...</td>\n",
       "      <td>...</td>\n",
       "      <td>...</td>\n",
       "      <td>...</td>\n",
       "      <td>...</td>\n",
       "      <td>...</td>\n",
       "      <td>...</td>\n",
       "      <td>...</td>\n",
       "      <td>...</td>\n",
       "    </tr>\n",
       "    <tr>\n",
       "      <th>16599</th>\n",
       "      <td>Woody Woodpecker in Crazy Castle 5</td>\n",
       "      <td>2002.0</td>\n",
       "      <td>Platform</td>\n",
       "      <td>0.0</td>\n",
       "      <td>0.0</td>\n",
       "      <td>0.0</td>\n",
       "      <td>0.0</td>\n",
       "      <td>1.0</td>\n",
       "      <td>0.0</td>\n",
       "      <td>0.0</td>\n",
       "      <td>0.0</td>\n",
       "      <td>0.0</td>\n",
       "      <td>0.0</td>\n",
       "      <td>0.0</td>\n",
       "      <td>0.0</td>\n",
       "    </tr>\n",
       "    <tr>\n",
       "      <th>16600</th>\n",
       "      <td>Men in Black II: Alien Escape</td>\n",
       "      <td>2003.0</td>\n",
       "      <td>Shooter</td>\n",
       "      <td>0.0</td>\n",
       "      <td>0.0</td>\n",
       "      <td>0.0</td>\n",
       "      <td>0.0</td>\n",
       "      <td>0.0</td>\n",
       "      <td>0.0</td>\n",
       "      <td>0.0</td>\n",
       "      <td>0.0</td>\n",
       "      <td>1.0</td>\n",
       "      <td>0.0</td>\n",
       "      <td>0.0</td>\n",
       "      <td>0.0</td>\n",
       "    </tr>\n",
       "    <tr>\n",
       "      <th>16601</th>\n",
       "      <td>SCORE International Baja 1000: The Official Game</td>\n",
       "      <td>2008.0</td>\n",
       "      <td>Racing</td>\n",
       "      <td>0.0</td>\n",
       "      <td>0.0</td>\n",
       "      <td>0.0</td>\n",
       "      <td>0.0</td>\n",
       "      <td>0.0</td>\n",
       "      <td>0.0</td>\n",
       "      <td>1.0</td>\n",
       "      <td>0.0</td>\n",
       "      <td>0.0</td>\n",
       "      <td>0.0</td>\n",
       "      <td>0.0</td>\n",
       "      <td>0.0</td>\n",
       "    </tr>\n",
       "    <tr>\n",
       "      <th>16602</th>\n",
       "      <td>Know How 2</td>\n",
       "      <td>2010.0</td>\n",
       "      <td>Puzzle</td>\n",
       "      <td>0.0</td>\n",
       "      <td>0.0</td>\n",
       "      <td>0.0</td>\n",
       "      <td>0.0</td>\n",
       "      <td>0.0</td>\n",
       "      <td>1.0</td>\n",
       "      <td>0.0</td>\n",
       "      <td>0.0</td>\n",
       "      <td>0.0</td>\n",
       "      <td>0.0</td>\n",
       "      <td>0.0</td>\n",
       "      <td>0.0</td>\n",
       "    </tr>\n",
       "    <tr>\n",
       "      <th>16603</th>\n",
       "      <td>Spirits &amp; Spells</td>\n",
       "      <td>2003.0</td>\n",
       "      <td>Platform</td>\n",
       "      <td>0.0</td>\n",
       "      <td>0.0</td>\n",
       "      <td>0.0</td>\n",
       "      <td>0.0</td>\n",
       "      <td>1.0</td>\n",
       "      <td>0.0</td>\n",
       "      <td>0.0</td>\n",
       "      <td>0.0</td>\n",
       "      <td>0.0</td>\n",
       "      <td>0.0</td>\n",
       "      <td>0.0</td>\n",
       "      <td>0.0</td>\n",
       "    </tr>\n",
       "  </tbody>\n",
       "</table>\n",
       "<p>16604 rows × 15 columns</p>\n",
       "</div>"
      ],
      "text/plain": [
       "                                                   Name    Year         Genre  \\\n",
       "0                                            Wii Sports  2006.0        Sports   \n",
       "1                                     Super Mario Bros.  1985.0      Platform   \n",
       "2                                        Mario Kart Wii  2008.0        Racing   \n",
       "3                                     Wii Sports Resort  2009.0        Sports   \n",
       "4                              Pokemon Red/Pokemon Blue  1996.0  Role-Playing   \n",
       "...                                                 ...     ...           ...   \n",
       "16599                Woody Woodpecker in Crazy Castle 5  2002.0      Platform   \n",
       "16600                     Men in Black II: Alien Escape  2003.0       Shooter   \n",
       "16601  SCORE International Baja 1000: The Official Game  2008.0        Racing   \n",
       "16602                                        Know How 2  2010.0        Puzzle   \n",
       "16603                                  Spirits & Spells  2003.0      Platform   \n",
       "\n",
       "         0    1    2    3    4    5    6    7    8    9   10   11  \n",
       "0      0.0  0.0  0.0  0.0  0.0  0.0  0.0  0.0  0.0  0.0  1.0  0.0  \n",
       "1      0.0  0.0  0.0  0.0  1.0  0.0  0.0  0.0  0.0  0.0  0.0  0.0  \n",
       "2      0.0  0.0  0.0  0.0  0.0  0.0  1.0  0.0  0.0  0.0  0.0  0.0  \n",
       "3      0.0  0.0  0.0  0.0  0.0  0.0  0.0  0.0  0.0  0.0  1.0  0.0  \n",
       "4      0.0  0.0  0.0  0.0  0.0  0.0  0.0  1.0  0.0  0.0  0.0  0.0  \n",
       "...    ...  ...  ...  ...  ...  ...  ...  ...  ...  ...  ...  ...  \n",
       "16599  0.0  0.0  0.0  0.0  1.0  0.0  0.0  0.0  0.0  0.0  0.0  0.0  \n",
       "16600  0.0  0.0  0.0  0.0  0.0  0.0  0.0  0.0  1.0  0.0  0.0  0.0  \n",
       "16601  0.0  0.0  0.0  0.0  0.0  0.0  1.0  0.0  0.0  0.0  0.0  0.0  \n",
       "16602  0.0  0.0  0.0  0.0  0.0  1.0  0.0  0.0  0.0  0.0  0.0  0.0  \n",
       "16603  0.0  0.0  0.0  0.0  1.0  0.0  0.0  0.0  0.0  0.0  0.0  0.0  \n",
       "\n",
       "[16604 rows x 15 columns]"
      ]
     },
     "execution_count": 163,
     "metadata": {},
     "output_type": "execute_result"
    }
   ],
   "source": [
    "encoder = OneHotEncoder(sparse=False)\n",
    "\n",
    "genreEnc = encoder.fit_transform(df[['Genre']])\n",
    "genreEnc = pd.DataFrame(genreEnc)\n",
    "\n",
    "dhot = df.join(genreEnc, how='left', lsuffix='left' )\n",
    "\n",
    "#fungsi dibawah tidak menampilkan attribute \n",
    "dhot.loc[:, ~dhot.columns.isin([\"Platform\",\"NA_Sales\",\"EU_Sales\",\"JP_Sales\",\"Other_Sales\",\"Global_Sales\",\"Publisher\",\"Rank\"])]"
   ]
  }
 ],
 "metadata": {
  "kernelspec": {
   "display_name": "Python 3.10.7 64-bit",
   "language": "python",
   "name": "python3"
  },
  "language_info": {
   "codemirror_mode": {
    "name": "ipython",
    "version": 3
   },
   "file_extension": ".py",
   "mimetype": "text/x-python",
   "name": "python",
   "nbconvert_exporter": "python",
   "pygments_lexer": "ipython3",
   "version": "3.10.7"
  },
  "vscode": {
   "interpreter": {
    "hash": "4087901ceae5ce8a9d0dd1d65190ccfabacf301eac98c84b3353bfad995f38a2"
   }
  }
 },
 "nbformat": 4,
 "nbformat_minor": 5
}
