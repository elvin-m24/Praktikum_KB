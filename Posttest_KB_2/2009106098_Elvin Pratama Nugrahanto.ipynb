{
 "cells": [
  {
   "cell_type": "markdown",
   "id": "d6b500d1-1e4f-4296-abab-8c05b01fe8bc",
   "metadata": {},
   "source": [
    "# Posttest 2"
   ]
  },
  {
   "cell_type": "markdown",
   "id": "1db31e15-8337-47ff-89e9-59f8c155080b",
   "metadata": {
    "tags": []
   },
   "source": [
    "# Import Package\n",
    "Library Pandas"
   ]
  },
  {
   "cell_type": "code",
   "execution_count": 11,
   "id": "a8e438b3-6aef-482e-b1e5-c3322b20816e",
   "metadata": {},
   "outputs": [],
   "source": [
    "import pandas as pd"
   ]
  },
  {
   "cell_type": "markdown",
   "id": "bdca7a53-2356-40b8-a57b-000412170bd7",
   "metadata": {},
   "source": [
    "# Membaca Dataset"
   ]
  },
  {
   "cell_type": "code",
   "execution_count": 12,
   "id": "fad1926b-3120-4a19-9001-eb50616b2e97",
   "metadata": {},
   "outputs": [
    {
     "data": {
      "text/html": [
       "<div>\n",
       "<style scoped>\n",
       "    .dataframe tbody tr th:only-of-type {\n",
       "        vertical-align: middle;\n",
       "    }\n",
       "\n",
       "    .dataframe tbody tr th {\n",
       "        vertical-align: top;\n",
       "    }\n",
       "\n",
       "    .dataframe thead th {\n",
       "        text-align: right;\n",
       "    }\n",
       "</style>\n",
       "<table border=\"1\" class=\"dataframe\">\n",
       "  <thead>\n",
       "    <tr style=\"text-align: right;\">\n",
       "      <th></th>\n",
       "      <th>Rank</th>\n",
       "      <th>Name</th>\n",
       "      <th>Platform</th>\n",
       "      <th>Year</th>\n",
       "      <th>Genre</th>\n",
       "      <th>Publisher</th>\n",
       "      <th>NA_Sales</th>\n",
       "      <th>EU_Sales</th>\n",
       "      <th>JP_Sales</th>\n",
       "      <th>Other_Sales</th>\n",
       "      <th>Global_Sales</th>\n",
       "    </tr>\n",
       "  </thead>\n",
       "  <tbody>\n",
       "    <tr>\n",
       "      <th>0</th>\n",
       "      <td>1</td>\n",
       "      <td>Wii Sports</td>\n",
       "      <td>Wii</td>\n",
       "      <td>2006.0</td>\n",
       "      <td>Sports</td>\n",
       "      <td>Nintendo</td>\n",
       "      <td>41.49</td>\n",
       "      <td>29.02</td>\n",
       "      <td>3.77</td>\n",
       "      <td>8.46</td>\n",
       "      <td>82.74</td>\n",
       "    </tr>\n",
       "    <tr>\n",
       "      <th>1</th>\n",
       "      <td>2</td>\n",
       "      <td>Super Mario Bros.</td>\n",
       "      <td>NES</td>\n",
       "      <td>1985.0</td>\n",
       "      <td>Platform</td>\n",
       "      <td>Nintendo</td>\n",
       "      <td>29.08</td>\n",
       "      <td>3.58</td>\n",
       "      <td>6.81</td>\n",
       "      <td>0.77</td>\n",
       "      <td>40.24</td>\n",
       "    </tr>\n",
       "    <tr>\n",
       "      <th>2</th>\n",
       "      <td>3</td>\n",
       "      <td>Mario Kart Wii</td>\n",
       "      <td>Wii</td>\n",
       "      <td>2008.0</td>\n",
       "      <td>Racing</td>\n",
       "      <td>Nintendo</td>\n",
       "      <td>15.85</td>\n",
       "      <td>12.88</td>\n",
       "      <td>3.79</td>\n",
       "      <td>3.31</td>\n",
       "      <td>35.82</td>\n",
       "    </tr>\n",
       "    <tr>\n",
       "      <th>3</th>\n",
       "      <td>4</td>\n",
       "      <td>Wii Sports Resort</td>\n",
       "      <td>Wii</td>\n",
       "      <td>2009.0</td>\n",
       "      <td>Sports</td>\n",
       "      <td>Nintendo</td>\n",
       "      <td>15.75</td>\n",
       "      <td>11.01</td>\n",
       "      <td>3.28</td>\n",
       "      <td>2.96</td>\n",
       "      <td>33.00</td>\n",
       "    </tr>\n",
       "    <tr>\n",
       "      <th>4</th>\n",
       "      <td>5</td>\n",
       "      <td>Pokemon Red/Pokemon Blue</td>\n",
       "      <td>GB</td>\n",
       "      <td>1996.0</td>\n",
       "      <td>Role-Playing</td>\n",
       "      <td>Nintendo</td>\n",
       "      <td>11.27</td>\n",
       "      <td>8.89</td>\n",
       "      <td>10.22</td>\n",
       "      <td>1.00</td>\n",
       "      <td>31.37</td>\n",
       "    </tr>\n",
       "  </tbody>\n",
       "</table>\n",
       "</div>"
      ],
      "text/plain": [
       "   Rank                      Name Platform    Year         Genre Publisher  \\\n",
       "0     1                Wii Sports      Wii  2006.0        Sports  Nintendo   \n",
       "1     2         Super Mario Bros.      NES  1985.0      Platform  Nintendo   \n",
       "2     3            Mario Kart Wii      Wii  2008.0        Racing  Nintendo   \n",
       "3     4         Wii Sports Resort      Wii  2009.0        Sports  Nintendo   \n",
       "4     5  Pokemon Red/Pokemon Blue       GB  1996.0  Role-Playing  Nintendo   \n",
       "\n",
       "   NA_Sales  EU_Sales  JP_Sales  Other_Sales  Global_Sales  \n",
       "0     41.49     29.02      3.77         8.46         82.74  \n",
       "1     29.08      3.58      6.81         0.77         40.24  \n",
       "2     15.85     12.88      3.79         3.31         35.82  \n",
       "3     15.75     11.01      3.28         2.96         33.00  \n",
       "4     11.27      8.89     10.22         1.00         31.37  "
      ]
     },
     "execution_count": 12,
     "metadata": {},
     "output_type": "execute_result"
    }
   ],
   "source": [
    "data = pd.read_csv(\"vgsales.csv\")\n",
    "data.head()"
   ]
  },
  {
   "cell_type": "markdown",
   "id": "133356bb",
   "metadata": {},
   "source": [
    "# Informasi Dataset"
   ]
  },
  {
   "cell_type": "code",
   "execution_count": 13,
   "id": "bc234d04",
   "metadata": {},
   "outputs": [
    {
     "data": {
      "text/plain": [
       "Total Record                                                          16598\n",
       "Nama Attribute            [Rank, Name, Platform, Year, Genre, Publisher,...\n",
       "Jumlah Attribute Objek                                                    4\n",
       "Jumlah Attribute Angka                                                    7\n",
       "Jumlah NULL                                                               2\n",
       "dtype: object"
      ]
     },
     "execution_count": 13,
     "metadata": {},
     "output_type": "execute_result"
    }
   ],
   "source": [
    "totalrecord = len(data)\n",
    "attribute = list(data.columns)\n",
    "objek = len(data.select_dtypes(include=['object']).columns)\n",
    "angka = len(data.select_dtypes(include=['int64', 'float64']).columns)\n",
    "NULL = len(data.columns[data.isna().sum() > 0])\n",
    "\n",
    "\n",
    "dict = {\n",
    "    \"Total Record\"            : totalrecord,\n",
    "    \"Nama Attribute\"          : attribute,\n",
    "    \"Jumlah Attribute Objek\"  : objek,\n",
    "    \"Jumlah Attribute Angka\"  : angka,\n",
    "    \"Jumlah NULL\"             : NULL,\n",
    "}\n",
    "\n",
    "pd.Series(dict)"
   ]
  },
  {
   "cell_type": "markdown",
   "id": "9be6e94f",
   "metadata": {},
   "source": [
    "# Atribut Bertipe Angka \n",
    "\n",
    "**Rank**\\\n",
    "**Year**\\\n",
    "**NA_Sales**\\\n",
    "**EU_Sales**\\\n",
    "**JP_Sales**\\\n",
    "**Other_Sales**\\\n",
    "**Global_Sales**"
   ]
  },
  {
   "cell_type": "markdown",
   "id": "6672adad",
   "metadata": {},
   "source": [
    "# Menampilkan Nilai Rata-Rata \n",
    "\n",
    "Menampilkan rata-rata dengan fungsi mean()"
   ]
  },
  {
   "cell_type": "code",
   "execution_count": 14,
   "id": "cd44bdf1",
   "metadata": {},
   "outputs": [
    {
     "data": {
      "text/plain": [
       "NA_Sales        0.264667\n",
       "EU_Sales        0.146652\n",
       "JP_Sales        0.077782\n",
       "Other_Sales     0.048063\n",
       "Global_Sales    0.537441\n",
       "dtype: float64"
      ]
     },
     "execution_count": 14,
     "metadata": {},
     "output_type": "execute_result"
    }
   ],
   "source": [
    "data[[\"NA_Sales\",\"EU_Sales\",\"JP_Sales\",\"Other_Sales\",\"Global_Sales\"]].mean()"
   ]
  },
  {
   "cell_type": "markdown",
   "id": "50b038be",
   "metadata": {},
   "source": [
    "# Menampilkan Nilai Standar Deviasi\n",
    "\n",
    "Menampilkan standar deviasi dengan fungsi std()"
   ]
  },
  {
   "cell_type": "code",
   "execution_count": 15,
   "id": "c6c0602c",
   "metadata": {},
   "outputs": [
    {
     "data": {
      "text/plain": [
       "NA_Sales        0.816683\n",
       "EU_Sales        0.505351\n",
       "JP_Sales        0.309291\n",
       "Other_Sales     0.188588\n",
       "Global_Sales    1.555028\n",
       "dtype: float64"
      ]
     },
     "execution_count": 15,
     "metadata": {},
     "output_type": "execute_result"
    }
   ],
   "source": [
    "data[[\"NA_Sales\",\"EU_Sales\",\"JP_Sales\",\"Other_Sales\",\"Global_Sales\"]].std()"
   ]
  },
  {
   "cell_type": "markdown",
   "id": "65abd911",
   "metadata": {},
   "source": [
    "# Menampilkan Nilai Minimum\n",
    "Menampilkan minimum dengan fungsi min()"
   ]
  },
  {
   "cell_type": "code",
   "execution_count": 16,
   "id": "59bdd5e7",
   "metadata": {},
   "outputs": [
    {
     "data": {
      "text/plain": [
       "NA_Sales        0.00\n",
       "EU_Sales        0.00\n",
       "JP_Sales        0.00\n",
       "Other_Sales     0.00\n",
       "Global_Sales    0.01\n",
       "dtype: float64"
      ]
     },
     "execution_count": 16,
     "metadata": {},
     "output_type": "execute_result"
    }
   ],
   "source": [
    "data[[\"NA_Sales\",\"EU_Sales\",\"JP_Sales\",\"Other_Sales\",\"Global_Sales\"]].min()"
   ]
  },
  {
   "cell_type": "markdown",
   "id": "f44594a2",
   "metadata": {},
   "source": [
    "# Menampilkan Nilai Maksimum\n",
    "Menampilkan maksimum dengan fungsi max()"
   ]
  },
  {
   "cell_type": "code",
   "execution_count": 17,
   "id": "0a14ba9e",
   "metadata": {},
   "outputs": [
    {
     "data": {
      "text/plain": [
       "NA_Sales        41.49\n",
       "EU_Sales        29.02\n",
       "JP_Sales        10.22\n",
       "Other_Sales     10.57\n",
       "Global_Sales    82.74\n",
       "dtype: float64"
      ]
     },
     "execution_count": 17,
     "metadata": {},
     "output_type": "execute_result"
    }
   ],
   "source": [
    "data[[\"NA_Sales\",\"EU_Sales\",\"JP_Sales\",\"Other_Sales\",\"Global_Sales\"]].max()"
   ]
  },
  {
   "cell_type": "markdown",
   "id": "dc51803a",
   "metadata": {},
   "source": [
    "# Menampilkan Q1, Q2, Q3 \n",
    "Menampilkan kuantil dengan fungsi quantile()\n",
    "\n",
    "**0.25 untuk Q1**\\\n",
    "**0.5  untuk Q2**\\\n",
    "**0.75 untuk Q3**"
   ]
  },
  {
   "cell_type": "code",
   "execution_count": 18,
   "id": "761efff6",
   "metadata": {},
   "outputs": [
    {
     "data": {
      "text/html": [
       "<div>\n",
       "<style scoped>\n",
       "    .dataframe tbody tr th:only-of-type {\n",
       "        vertical-align: middle;\n",
       "    }\n",
       "\n",
       "    .dataframe tbody tr th {\n",
       "        vertical-align: top;\n",
       "    }\n",
       "\n",
       "    .dataframe thead th {\n",
       "        text-align: right;\n",
       "    }\n",
       "</style>\n",
       "<table border=\"1\" class=\"dataframe\">\n",
       "  <thead>\n",
       "    <tr style=\"text-align: right;\">\n",
       "      <th></th>\n",
       "      <th>NA_Sales</th>\n",
       "      <th>EU_Sales</th>\n",
       "      <th>JP_Sales</th>\n",
       "      <th>Other_Sales</th>\n",
       "      <th>Global_Sales</th>\n",
       "    </tr>\n",
       "  </thead>\n",
       "  <tbody>\n",
       "    <tr>\n",
       "      <th>0.25</th>\n",
       "      <td>0.00</td>\n",
       "      <td>0.00</td>\n",
       "      <td>0.00</td>\n",
       "      <td>0.00</td>\n",
       "      <td>0.06</td>\n",
       "    </tr>\n",
       "    <tr>\n",
       "      <th>0.50</th>\n",
       "      <td>0.08</td>\n",
       "      <td>0.02</td>\n",
       "      <td>0.00</td>\n",
       "      <td>0.01</td>\n",
       "      <td>0.17</td>\n",
       "    </tr>\n",
       "    <tr>\n",
       "      <th>0.75</th>\n",
       "      <td>0.24</td>\n",
       "      <td>0.11</td>\n",
       "      <td>0.04</td>\n",
       "      <td>0.04</td>\n",
       "      <td>0.47</td>\n",
       "    </tr>\n",
       "  </tbody>\n",
       "</table>\n",
       "</div>"
      ],
      "text/plain": [
       "      NA_Sales  EU_Sales  JP_Sales  Other_Sales  Global_Sales\n",
       "0.25      0.00      0.00      0.00         0.00          0.06\n",
       "0.50      0.08      0.02      0.00         0.01          0.17\n",
       "0.75      0.24      0.11      0.04         0.04          0.47"
      ]
     },
     "execution_count": 18,
     "metadata": {},
     "output_type": "execute_result"
    }
   ],
   "source": [
    "data[[\"NA_Sales\",\"EU_Sales\",\"JP_Sales\",\"Other_Sales\",\"Global_Sales\"]].quantile([0.25,0.5,0.75])"
   ]
  },
  {
   "cell_type": "markdown",
   "id": "62f01bc0",
   "metadata": {},
   "source": [
    "# Menampilkan Statistik Deskriptif\n",
    "\n",
    "Menampilkan total record, rata-rata, simpangan baku, nilai minimum, maksimum,\\\n",
    "dan kuantil dengan menggunakan fungsi **describe()**"
   ]
  },
  {
   "cell_type": "code",
   "execution_count": 19,
   "id": "2f79f63c",
   "metadata": {},
   "outputs": [
    {
     "data": {
      "text/html": [
       "<div>\n",
       "<style scoped>\n",
       "    .dataframe tbody tr th:only-of-type {\n",
       "        vertical-align: middle;\n",
       "    }\n",
       "\n",
       "    .dataframe tbody tr th {\n",
       "        vertical-align: top;\n",
       "    }\n",
       "\n",
       "    .dataframe thead th {\n",
       "        text-align: right;\n",
       "    }\n",
       "</style>\n",
       "<table border=\"1\" class=\"dataframe\">\n",
       "  <thead>\n",
       "    <tr style=\"text-align: right;\">\n",
       "      <th></th>\n",
       "      <th>NA_Sales</th>\n",
       "      <th>EU_Sales</th>\n",
       "      <th>JP_Sales</th>\n",
       "      <th>Other_Sales</th>\n",
       "      <th>Global_Sales</th>\n",
       "    </tr>\n",
       "  </thead>\n",
       "  <tbody>\n",
       "    <tr>\n",
       "      <th>count</th>\n",
       "      <td>16598.000000</td>\n",
       "      <td>16598.000000</td>\n",
       "      <td>16598.000000</td>\n",
       "      <td>16598.000000</td>\n",
       "      <td>16598.000000</td>\n",
       "    </tr>\n",
       "    <tr>\n",
       "      <th>mean</th>\n",
       "      <td>0.264667</td>\n",
       "      <td>0.146652</td>\n",
       "      <td>0.077782</td>\n",
       "      <td>0.048063</td>\n",
       "      <td>0.537441</td>\n",
       "    </tr>\n",
       "    <tr>\n",
       "      <th>std</th>\n",
       "      <td>0.816683</td>\n",
       "      <td>0.505351</td>\n",
       "      <td>0.309291</td>\n",
       "      <td>0.188588</td>\n",
       "      <td>1.555028</td>\n",
       "    </tr>\n",
       "    <tr>\n",
       "      <th>min</th>\n",
       "      <td>0.000000</td>\n",
       "      <td>0.000000</td>\n",
       "      <td>0.000000</td>\n",
       "      <td>0.000000</td>\n",
       "      <td>0.010000</td>\n",
       "    </tr>\n",
       "    <tr>\n",
       "      <th>25%</th>\n",
       "      <td>0.000000</td>\n",
       "      <td>0.000000</td>\n",
       "      <td>0.000000</td>\n",
       "      <td>0.000000</td>\n",
       "      <td>0.060000</td>\n",
       "    </tr>\n",
       "    <tr>\n",
       "      <th>50%</th>\n",
       "      <td>0.080000</td>\n",
       "      <td>0.020000</td>\n",
       "      <td>0.000000</td>\n",
       "      <td>0.010000</td>\n",
       "      <td>0.170000</td>\n",
       "    </tr>\n",
       "    <tr>\n",
       "      <th>75%</th>\n",
       "      <td>0.240000</td>\n",
       "      <td>0.110000</td>\n",
       "      <td>0.040000</td>\n",
       "      <td>0.040000</td>\n",
       "      <td>0.470000</td>\n",
       "    </tr>\n",
       "    <tr>\n",
       "      <th>max</th>\n",
       "      <td>41.490000</td>\n",
       "      <td>29.020000</td>\n",
       "      <td>10.220000</td>\n",
       "      <td>10.570000</td>\n",
       "      <td>82.740000</td>\n",
       "    </tr>\n",
       "  </tbody>\n",
       "</table>\n",
       "</div>"
      ],
      "text/plain": [
       "           NA_Sales      EU_Sales      JP_Sales   Other_Sales  Global_Sales\n",
       "count  16598.000000  16598.000000  16598.000000  16598.000000  16598.000000\n",
       "mean       0.264667      0.146652      0.077782      0.048063      0.537441\n",
       "std        0.816683      0.505351      0.309291      0.188588      1.555028\n",
       "min        0.000000      0.000000      0.000000      0.000000      0.010000\n",
       "25%        0.000000      0.000000      0.000000      0.000000      0.060000\n",
       "50%        0.080000      0.020000      0.000000      0.010000      0.170000\n",
       "75%        0.240000      0.110000      0.040000      0.040000      0.470000\n",
       "max       41.490000     29.020000     10.220000     10.570000     82.740000"
      ]
     },
     "execution_count": 19,
     "metadata": {},
     "output_type": "execute_result"
    }
   ],
   "source": [
    "data[[\"NA_Sales\",\"EU_Sales\",\"JP_Sales\",\"Other_Sales\",\"Global_Sales\"]].describe()"
   ]
  },
  {
   "cell_type": "markdown",
   "id": "93f36c15",
   "metadata": {},
   "source": [
    "# Menampilkan Nilai Korelasi\n",
    "\n",
    "Menampilkan nilai korelasi dengan fungsi corr()"
   ]
  },
  {
   "cell_type": "code",
   "execution_count": 20,
   "id": "b8d2e935-863e-4cfc-befb-6f00dbb3cfb3",
   "metadata": {},
   "outputs": [
    {
     "data": {
      "text/html": [
       "<div>\n",
       "<style scoped>\n",
       "    .dataframe tbody tr th:only-of-type {\n",
       "        vertical-align: middle;\n",
       "    }\n",
       "\n",
       "    .dataframe tbody tr th {\n",
       "        vertical-align: top;\n",
       "    }\n",
       "\n",
       "    .dataframe thead th {\n",
       "        text-align: right;\n",
       "    }\n",
       "</style>\n",
       "<table border=\"1\" class=\"dataframe\">\n",
       "  <thead>\n",
       "    <tr style=\"text-align: right;\">\n",
       "      <th></th>\n",
       "      <th>NA_Sales</th>\n",
       "      <th>EU_Sales</th>\n",
       "      <th>JP_Sales</th>\n",
       "      <th>Other_Sales</th>\n",
       "      <th>Global_Sales</th>\n",
       "    </tr>\n",
       "  </thead>\n",
       "  <tbody>\n",
       "    <tr>\n",
       "      <th>NA_Sales</th>\n",
       "      <td>1.000000</td>\n",
       "      <td>0.767727</td>\n",
       "      <td>0.449787</td>\n",
       "      <td>0.634737</td>\n",
       "      <td>0.941047</td>\n",
       "    </tr>\n",
       "    <tr>\n",
       "      <th>EU_Sales</th>\n",
       "      <td>0.767727</td>\n",
       "      <td>1.000000</td>\n",
       "      <td>0.435584</td>\n",
       "      <td>0.726385</td>\n",
       "      <td>0.902836</td>\n",
       "    </tr>\n",
       "    <tr>\n",
       "      <th>JP_Sales</th>\n",
       "      <td>0.449787</td>\n",
       "      <td>0.435584</td>\n",
       "      <td>1.000000</td>\n",
       "      <td>0.290186</td>\n",
       "      <td>0.611816</td>\n",
       "    </tr>\n",
       "    <tr>\n",
       "      <th>Other_Sales</th>\n",
       "      <td>0.634737</td>\n",
       "      <td>0.726385</td>\n",
       "      <td>0.290186</td>\n",
       "      <td>1.000000</td>\n",
       "      <td>0.748331</td>\n",
       "    </tr>\n",
       "    <tr>\n",
       "      <th>Global_Sales</th>\n",
       "      <td>0.941047</td>\n",
       "      <td>0.902836</td>\n",
       "      <td>0.611816</td>\n",
       "      <td>0.748331</td>\n",
       "      <td>1.000000</td>\n",
       "    </tr>\n",
       "  </tbody>\n",
       "</table>\n",
       "</div>"
      ],
      "text/plain": [
       "              NA_Sales  EU_Sales  JP_Sales  Other_Sales  Global_Sales\n",
       "NA_Sales      1.000000  0.767727  0.449787     0.634737      0.941047\n",
       "EU_Sales      0.767727  1.000000  0.435584     0.726385      0.902836\n",
       "JP_Sales      0.449787  0.435584  1.000000     0.290186      0.611816\n",
       "Other_Sales   0.634737  0.726385  0.290186     1.000000      0.748331\n",
       "Global_Sales  0.941047  0.902836  0.611816     0.748331      1.000000"
      ]
     },
     "execution_count": 20,
     "metadata": {},
     "output_type": "execute_result"
    }
   ],
   "source": [
    "data[[\"NA_Sales\",\"EU_Sales\",\"JP_Sales\",\"Other_Sales\",\"Global_Sales\"]].corr()"
   ]
  },
  {
   "cell_type": "markdown",
   "id": "7b59c31f",
   "metadata": {},
   "source": [
    "# Merubah Atributte Menjadi Angka Bulat\n",
    "\n",
    "Atributte yang akan dirubah yaitu **Global_Sales** yang sebelumnya bilangan Desimal menjadi bilangan Bulat\\\n",
    "dengan menggunakan fungsi **astype()** "
   ]
  },
  {
   "cell_type": "code",
   "execution_count": 35,
   "id": "eec895da",
   "metadata": {},
   "outputs": [
    {
     "name": "stdout",
     "output_type": "stream",
     "text": [
      "Sebelum di Ubah :  float64\n",
      "Setelah di Ubah :  int64\n"
     ]
    }
   ],
   "source": [
    "print(\"Sebelum di Ubah : \",data[\"Global_Sales\"].dtypes)\n",
    "\n",
    "data[\"Global_Sales\"] = data[\"Global_Sales\"].astype('int64')\n",
    "\n",
    "print(\"Setelah di Ubah : \", data[\"Global_Sales\"].dtypes)"
   ]
  },
  {
   "cell_type": "markdown",
   "id": "65eff811",
   "metadata": {},
   "source": [
    "# Menampilkan Attribute Bertipe Angka\n",
    "\n",
    "\n",
    "Data yang ditampilkan yaitu 10 record pertama dengan fungsi head()\\\n",
    "10 merupakan berapa banyak record yang ingin ditampilkan"
   ]
  },
  {
   "cell_type": "code",
   "execution_count": 36,
   "id": "789c3c9a",
   "metadata": {
    "scrolled": true
   },
   "outputs": [
    {
     "data": {
      "text/html": [
       "<div>\n",
       "<style scoped>\n",
       "    .dataframe tbody tr th:only-of-type {\n",
       "        vertical-align: middle;\n",
       "    }\n",
       "\n",
       "    .dataframe tbody tr th {\n",
       "        vertical-align: top;\n",
       "    }\n",
       "\n",
       "    .dataframe thead th {\n",
       "        text-align: right;\n",
       "    }\n",
       "</style>\n",
       "<table border=\"1\" class=\"dataframe\">\n",
       "  <thead>\n",
       "    <tr style=\"text-align: right;\">\n",
       "      <th></th>\n",
       "      <th>Rank</th>\n",
       "      <th>Year</th>\n",
       "      <th>NA_Sales</th>\n",
       "      <th>EU_Sales</th>\n",
       "      <th>JP_Sales</th>\n",
       "      <th>Other_Sales</th>\n",
       "      <th>Global_Sales</th>\n",
       "    </tr>\n",
       "  </thead>\n",
       "  <tbody>\n",
       "    <tr>\n",
       "      <th>0</th>\n",
       "      <td>1</td>\n",
       "      <td>2006.0</td>\n",
       "      <td>41.49</td>\n",
       "      <td>29.02</td>\n",
       "      <td>3.77</td>\n",
       "      <td>8.46</td>\n",
       "      <td>82</td>\n",
       "    </tr>\n",
       "    <tr>\n",
       "      <th>1</th>\n",
       "      <td>2</td>\n",
       "      <td>1985.0</td>\n",
       "      <td>29.08</td>\n",
       "      <td>3.58</td>\n",
       "      <td>6.81</td>\n",
       "      <td>0.77</td>\n",
       "      <td>40</td>\n",
       "    </tr>\n",
       "    <tr>\n",
       "      <th>2</th>\n",
       "      <td>3</td>\n",
       "      <td>2008.0</td>\n",
       "      <td>15.85</td>\n",
       "      <td>12.88</td>\n",
       "      <td>3.79</td>\n",
       "      <td>3.31</td>\n",
       "      <td>35</td>\n",
       "    </tr>\n",
       "    <tr>\n",
       "      <th>3</th>\n",
       "      <td>4</td>\n",
       "      <td>2009.0</td>\n",
       "      <td>15.75</td>\n",
       "      <td>11.01</td>\n",
       "      <td>3.28</td>\n",
       "      <td>2.96</td>\n",
       "      <td>33</td>\n",
       "    </tr>\n",
       "    <tr>\n",
       "      <th>4</th>\n",
       "      <td>5</td>\n",
       "      <td>1996.0</td>\n",
       "      <td>11.27</td>\n",
       "      <td>8.89</td>\n",
       "      <td>10.22</td>\n",
       "      <td>1.00</td>\n",
       "      <td>31</td>\n",
       "    </tr>\n",
       "    <tr>\n",
       "      <th>5</th>\n",
       "      <td>6</td>\n",
       "      <td>1989.0</td>\n",
       "      <td>23.20</td>\n",
       "      <td>2.26</td>\n",
       "      <td>4.22</td>\n",
       "      <td>0.58</td>\n",
       "      <td>30</td>\n",
       "    </tr>\n",
       "    <tr>\n",
       "      <th>6</th>\n",
       "      <td>7</td>\n",
       "      <td>2006.0</td>\n",
       "      <td>11.38</td>\n",
       "      <td>9.23</td>\n",
       "      <td>6.50</td>\n",
       "      <td>2.90</td>\n",
       "      <td>30</td>\n",
       "    </tr>\n",
       "    <tr>\n",
       "      <th>7</th>\n",
       "      <td>8</td>\n",
       "      <td>2006.0</td>\n",
       "      <td>14.03</td>\n",
       "      <td>9.20</td>\n",
       "      <td>2.93</td>\n",
       "      <td>2.85</td>\n",
       "      <td>29</td>\n",
       "    </tr>\n",
       "    <tr>\n",
       "      <th>8</th>\n",
       "      <td>9</td>\n",
       "      <td>2009.0</td>\n",
       "      <td>14.59</td>\n",
       "      <td>7.06</td>\n",
       "      <td>4.70</td>\n",
       "      <td>2.26</td>\n",
       "      <td>28</td>\n",
       "    </tr>\n",
       "    <tr>\n",
       "      <th>9</th>\n",
       "      <td>10</td>\n",
       "      <td>1984.0</td>\n",
       "      <td>26.93</td>\n",
       "      <td>0.63</td>\n",
       "      <td>0.28</td>\n",
       "      <td>0.47</td>\n",
       "      <td>28</td>\n",
       "    </tr>\n",
       "  </tbody>\n",
       "</table>\n",
       "</div>"
      ],
      "text/plain": [
       "   Rank    Year  NA_Sales  EU_Sales  JP_Sales  Other_Sales  Global_Sales\n",
       "0     1  2006.0     41.49     29.02      3.77         8.46            82\n",
       "1     2  1985.0     29.08      3.58      6.81         0.77            40\n",
       "2     3  2008.0     15.85     12.88      3.79         3.31            35\n",
       "3     4  2009.0     15.75     11.01      3.28         2.96            33\n",
       "4     5  1996.0     11.27      8.89     10.22         1.00            31\n",
       "5     6  1989.0     23.20      2.26      4.22         0.58            30\n",
       "6     7  2006.0     11.38      9.23      6.50         2.90            30\n",
       "7     8  2006.0     14.03      9.20      2.93         2.85            29\n",
       "8     9  2009.0     14.59      7.06      4.70         2.26            28\n",
       "9    10  1984.0     26.93      0.63      0.28         0.47            28"
      ]
     },
     "execution_count": 36,
     "metadata": {},
     "output_type": "execute_result"
    }
   ],
   "source": [
    "data.select_dtypes(include=['int64', 'float64']).head(10)"
   ]
  },
  {
   "cell_type": "markdown",
   "id": "2fe8ddaa",
   "metadata": {},
   "source": [
    "# Export Record ke File csv Baru\n",
    "\n",
    "Record yang di Export ke file csv baru merupakan attribute bertipe angka"
   ]
  },
  {
   "cell_type": "code",
   "execution_count": 37,
   "id": "c505bb6e",
   "metadata": {},
   "outputs": [],
   "source": [
    "data.select_dtypes(include=['int64', 'float64']).to_csv(\"Atribut Angka.csv\", index=False)"
   ]
  }
 ],
 "metadata": {
  "kernelspec": {
   "display_name": "Elvin_098",
   "language": "python",
   "name": "elvin_098"
  },
  "language_info": {
   "codemirror_mode": {
    "name": "ipython",
    "version": 3
   },
   "file_extension": ".py",
   "mimetype": "text/x-python",
   "name": "python",
   "nbconvert_exporter": "python",
   "pygments_lexer": "ipython3",
   "version": "3.10.7"
  }
 },
 "nbformat": 4,
 "nbformat_minor": 5
}
