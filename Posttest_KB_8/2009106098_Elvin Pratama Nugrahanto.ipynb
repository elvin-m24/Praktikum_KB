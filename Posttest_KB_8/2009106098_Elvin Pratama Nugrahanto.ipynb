{
 "cells": [
  {
   "cell_type": "markdown",
   "metadata": {},
   "source": [
    "## Import Library"
   ]
  },
  {
   "cell_type": "code",
   "execution_count": 66,
   "metadata": {},
   "outputs": [],
   "source": [
    "import numpy as np\n",
    "import pandas as pd\n",
    "import tensorflow as tf\n",
    "import tensorflow as tf\n",
    "from sklearn.impute import SimpleImputer\n",
    "from sklearn.model_selection import train_test_split\n",
    "import matplotlib.pyplot as plt\n"
   ]
  },
  {
   "cell_type": "markdown",
   "metadata": {},
   "source": [
    "## Dataset"
   ]
  },
  {
   "cell_type": "code",
   "execution_count": 67,
   "metadata": {},
   "outputs": [
    {
     "data": {
      "text/html": [
       "<div>\n",
       "<style scoped>\n",
       "    .dataframe tbody tr th:only-of-type {\n",
       "        vertical-align: middle;\n",
       "    }\n",
       "\n",
       "    .dataframe tbody tr th {\n",
       "        vertical-align: top;\n",
       "    }\n",
       "\n",
       "    .dataframe thead th {\n",
       "        text-align: right;\n",
       "    }\n",
       "</style>\n",
       "<table border=\"1\" class=\"dataframe\">\n",
       "  <thead>\n",
       "    <tr style=\"text-align: right;\">\n",
       "      <th></th>\n",
       "      <th>Rank</th>\n",
       "      <th>Name</th>\n",
       "      <th>Platform</th>\n",
       "      <th>Year</th>\n",
       "      <th>Genre</th>\n",
       "      <th>Publisher</th>\n",
       "      <th>NA_Sales</th>\n",
       "      <th>EU_Sales</th>\n",
       "      <th>JP_Sales</th>\n",
       "      <th>Other_Sales</th>\n",
       "      <th>Global_Sales</th>\n",
       "    </tr>\n",
       "  </thead>\n",
       "  <tbody>\n",
       "    <tr>\n",
       "      <th>0</th>\n",
       "      <td>1</td>\n",
       "      <td>Wii Sports</td>\n",
       "      <td>Wii</td>\n",
       "      <td>2006.0</td>\n",
       "      <td>Sports</td>\n",
       "      <td>Nintendo</td>\n",
       "      <td>41.49</td>\n",
       "      <td>29.02</td>\n",
       "      <td>3.77</td>\n",
       "      <td>8.46</td>\n",
       "      <td>82.74</td>\n",
       "    </tr>\n",
       "    <tr>\n",
       "      <th>1</th>\n",
       "      <td>2</td>\n",
       "      <td>Super Mario Bros.</td>\n",
       "      <td>NES</td>\n",
       "      <td>1985.0</td>\n",
       "      <td>Platform</td>\n",
       "      <td>Nintendo</td>\n",
       "      <td>29.08</td>\n",
       "      <td>3.58</td>\n",
       "      <td>6.81</td>\n",
       "      <td>0.77</td>\n",
       "      <td>40.24</td>\n",
       "    </tr>\n",
       "    <tr>\n",
       "      <th>2</th>\n",
       "      <td>3</td>\n",
       "      <td>Mario Kart Wii</td>\n",
       "      <td>Wii</td>\n",
       "      <td>2008.0</td>\n",
       "      <td>Racing</td>\n",
       "      <td>Nintendo</td>\n",
       "      <td>15.85</td>\n",
       "      <td>12.88</td>\n",
       "      <td>3.79</td>\n",
       "      <td>3.31</td>\n",
       "      <td>35.82</td>\n",
       "    </tr>\n",
       "    <tr>\n",
       "      <th>3</th>\n",
       "      <td>4</td>\n",
       "      <td>Wii Sports Resort</td>\n",
       "      <td>Wii</td>\n",
       "      <td>2009.0</td>\n",
       "      <td>Sports</td>\n",
       "      <td>Nintendo</td>\n",
       "      <td>15.75</td>\n",
       "      <td>11.01</td>\n",
       "      <td>3.28</td>\n",
       "      <td>2.96</td>\n",
       "      <td>33.00</td>\n",
       "    </tr>\n",
       "    <tr>\n",
       "      <th>4</th>\n",
       "      <td>5</td>\n",
       "      <td>Pokemon Red/Pokemon Blue</td>\n",
       "      <td>GB</td>\n",
       "      <td>1996.0</td>\n",
       "      <td>Role-Playing</td>\n",
       "      <td>Nintendo</td>\n",
       "      <td>11.27</td>\n",
       "      <td>8.89</td>\n",
       "      <td>10.22</td>\n",
       "      <td>1.00</td>\n",
       "      <td>31.37</td>\n",
       "    </tr>\n",
       "  </tbody>\n",
       "</table>\n",
       "</div>"
      ],
      "text/plain": [
       "   Rank                      Name Platform    Year         Genre Publisher  \\\n",
       "0     1                Wii Sports      Wii  2006.0        Sports  Nintendo   \n",
       "1     2         Super Mario Bros.      NES  1985.0      Platform  Nintendo   \n",
       "2     3            Mario Kart Wii      Wii  2008.0        Racing  Nintendo   \n",
       "3     4         Wii Sports Resort      Wii  2009.0        Sports  Nintendo   \n",
       "4     5  Pokemon Red/Pokemon Blue       GB  1996.0  Role-Playing  Nintendo   \n",
       "\n",
       "   NA_Sales  EU_Sales  JP_Sales  Other_Sales  Global_Sales  \n",
       "0     41.49     29.02      3.77         8.46         82.74  \n",
       "1     29.08      3.58      6.81         0.77         40.24  \n",
       "2     15.85     12.88      3.79         3.31         35.82  \n",
       "3     15.75     11.01      3.28         2.96         33.00  \n",
       "4     11.27      8.89     10.22         1.00         31.37  "
      ]
     },
     "execution_count": 67,
     "metadata": {},
     "output_type": "execute_result"
    }
   ],
   "source": [
    "df = pd.read_csv(\"vgsales.csv\")\n",
    "\n",
    "df.head()"
   ]
  },
  {
   "cell_type": "markdown",
   "metadata": {},
   "source": [
    "## Cleaning Dataset"
   ]
  },
  {
   "cell_type": "code",
   "execution_count": 68,
   "metadata": {},
   "outputs": [],
   "source": [
    "impute_mean = SimpleImputer(strategy='mean')\n",
    "impute_modus = SimpleImputer(strategy='most_frequent' )"
   ]
  },
  {
   "cell_type": "code",
   "execution_count": 69,
   "metadata": {},
   "outputs": [],
   "source": [
    "df['Year'] = impute_mean.fit_transform(df[['Year']])\n",
    "df['Publisher'] = impute_modus.fit_transform(df[['Publisher']])"
   ]
  },
  {
   "cell_type": "code",
   "execution_count": 70,
   "metadata": {},
   "outputs": [
    {
     "data": {
      "text/plain": [
       "Rank            0\n",
       "Name            0\n",
       "Platform        0\n",
       "Year            0\n",
       "Genre           0\n",
       "Publisher       0\n",
       "NA_Sales        0\n",
       "EU_Sales        0\n",
       "JP_Sales        0\n",
       "Other_Sales     0\n",
       "Global_Sales    0\n",
       "dtype: int64"
      ]
     },
     "execution_count": 70,
     "metadata": {},
     "output_type": "execute_result"
    }
   ],
   "source": [
    "df.isna().sum()"
   ]
  },
  {
   "cell_type": "markdown",
   "metadata": {},
   "source": [
    "## Data Spliting"
   ]
  },
  {
   "cell_type": "markdown",
   "metadata": {},
   "source": [
    "Mengganti Value pada Tabel Genre"
   ]
  },
  {
   "cell_type": "code",
   "execution_count": 71,
   "metadata": {},
   "outputs": [],
   "source": [
    "df.replace(\"Action\", value=0, inplace=True)\n",
    "df.replace(\"Sports\", value=1, inplace=True)\n",
    "df.replace(\"Misc\", value=2, inplace=True)\n",
    "df.replace(\"Role-Playing\", value=3, inplace=True)\n",
    "df.replace(\"Shooter\", value=4, inplace=True)\n",
    "df.replace(\"Adventure\", value=5, inplace=True)\n",
    "df.replace(\"Racing\", value=6, inplace=True)\n",
    "df.replace(\"Platform\", value=7, inplace=True)\n",
    "df.replace(\"Simulation\", value=8, inplace=True)\n",
    "df.replace(\"Fighting\", value=9, inplace=True)\n",
    "df.replace(\"Strategy\", value=10, inplace=True)\n",
    "df.replace(\"Puzzle\", value=11, inplace=True)"
   ]
  },
  {
   "cell_type": "code",
   "execution_count": 72,
   "metadata": {},
   "outputs": [],
   "source": [
    "X = df[[\"NA_Sales\", \"EU_Sales\", \"JP_Sales\", \"Other_Sales\", \"Global_Sales\"]]\n",
    "y = df[[\"Genre\"]]"
   ]
  },
  {
   "cell_type": "code",
   "execution_count": 73,
   "metadata": {},
   "outputs": [],
   "source": [
    "X_train, X_test, y_train, y_test = train_test_split(X, y, random_state=0, test_size=.3)"
   ]
  },
  {
   "cell_type": "markdown",
   "metadata": {},
   "source": [
    "#### Encoding label"
   ]
  },
  {
   "cell_type": "code",
   "execution_count": 74,
   "metadata": {},
   "outputs": [],
   "source": [
    "num_class = 12\n",
    "y_train = tf.keras.utils.to_categorical(y_train, num_class)\n",
    "y_test = tf.keras.utils.to_categorical(y_test, num_class)"
   ]
  },
  {
   "cell_type": "markdown",
   "metadata": {},
   "source": [
    "### Sequential Model"
   ]
  },
  {
   "cell_type": "code",
   "execution_count": 75,
   "metadata": {},
   "outputs": [
    {
     "name": "stdout",
     "output_type": "stream",
     "text": [
      "Model: \"sequential_5\"\n",
      "_________________________________________________________________\n",
      " Layer (type)                Output Shape              Param #   \n",
      "=================================================================\n",
      " dense_10 (Dense)            (None, 12)                72        \n",
      "                                                                 \n",
      " dense_11 (Dense)            (None, 12)                156       \n",
      "                                                                 \n",
      "=================================================================\n",
      "Total params: 228\n",
      "Trainable params: 228\n",
      "Non-trainable params: 0\n",
      "_________________________________________________________________\n"
     ]
    }
   ],
   "source": [
    "model = tf.keras.Sequential([\n",
    "    tf.keras.layers.Dense(12, activation='relu', input_dim=5),\n",
    "    tf.keras.layers.Dense(num_class, activation='softmax'),\n",
    "])\n",
    "\n",
    "model.summary()"
   ]
  },
  {
   "cell_type": "markdown",
   "metadata": {},
   "source": [
    "### Compile Model"
   ]
  },
  {
   "cell_type": "code",
   "execution_count": 76,
   "metadata": {},
   "outputs": [],
   "source": [
    "model.compile(\n",
    "    optimizer=tf.keras.optimizers.Adam(),\n",
    "    loss=tf.keras.losses.categorical_crossentropy,\n",
    "    metrics=[\"accuracy\"]\n",
    ")"
   ]
  },
  {
   "cell_type": "markdown",
   "metadata": {},
   "source": [
    "### Training Model"
   ]
  },
  {
   "cell_type": "code",
   "execution_count": 77,
   "metadata": {},
   "outputs": [
    {
     "name": "stdout",
     "output_type": "stream",
     "text": [
      "Epoch 1/50\n",
      "50/50 [==============================] - 1s 13ms/step - loss: 2.4994 - accuracy: 0.1456 - val_loss: 2.4623 - val_accuracy: 0.1853\n",
      "Epoch 2/50\n",
      "50/50 [==============================] - 0s 5ms/step - loss: 2.4411 - accuracy: 0.1914 - val_loss: 2.4150 - val_accuracy: 0.2012\n",
      "Epoch 3/50\n",
      "50/50 [==============================] - 0s 5ms/step - loss: 2.3965 - accuracy: 0.2062 - val_loss: 2.3768 - val_accuracy: 0.2068\n",
      "Epoch 4/50\n",
      "50/50 [==============================] - 0s 5ms/step - loss: 2.3629 - accuracy: 0.2084 - val_loss: 2.3524 - val_accuracy: 0.2054\n",
      "Epoch 5/50\n",
      "50/50 [==============================] - 0s 5ms/step - loss: 2.3418 - accuracy: 0.2080 - val_loss: 2.3386 - val_accuracy: 0.2040\n",
      "Epoch 6/50\n",
      "50/50 [==============================] - 0s 5ms/step - loss: 2.3301 - accuracy: 0.2079 - val_loss: 2.3321 - val_accuracy: 0.2032\n",
      "Epoch 7/50\n",
      "50/50 [==============================] - 0s 5ms/step - loss: 2.3239 - accuracy: 0.2079 - val_loss: 2.3283 - val_accuracy: 0.2038\n",
      "Epoch 8/50\n",
      "50/50 [==============================] - 0s 5ms/step - loss: 2.3206 - accuracy: 0.2075 - val_loss: 2.3255 - val_accuracy: 0.2036\n",
      "Epoch 9/50\n",
      "50/50 [==============================] - 0s 5ms/step - loss: 2.3180 - accuracy: 0.2074 - val_loss: 2.3237 - val_accuracy: 0.2026\n",
      "Epoch 10/50\n",
      "50/50 [==============================] - 0s 5ms/step - loss: 2.3160 - accuracy: 0.2079 - val_loss: 2.3216 - val_accuracy: 0.2032\n",
      "Epoch 11/50\n",
      "50/50 [==============================] - 0s 5ms/step - loss: 2.3144 - accuracy: 0.2084 - val_loss: 2.3204 - val_accuracy: 0.2028\n",
      "Epoch 12/50\n",
      "50/50 [==============================] - 0s 5ms/step - loss: 2.3127 - accuracy: 0.2091 - val_loss: 2.3188 - val_accuracy: 0.2036\n",
      "Epoch 13/50\n",
      "50/50 [==============================] - 0s 5ms/step - loss: 2.3115 - accuracy: 0.2093 - val_loss: 2.3178 - val_accuracy: 0.2044\n",
      "Epoch 14/50\n",
      "50/50 [==============================] - 0s 5ms/step - loss: 2.3102 - accuracy: 0.2098 - val_loss: 2.3166 - val_accuracy: 0.2048\n",
      "Epoch 15/50\n",
      "50/50 [==============================] - 0s 5ms/step - loss: 2.3092 - accuracy: 0.2094 - val_loss: 2.3159 - val_accuracy: 0.2048\n",
      "Epoch 16/50\n",
      "50/50 [==============================] - 0s 5ms/step - loss: 2.3081 - accuracy: 0.2103 - val_loss: 2.3149 - val_accuracy: 0.2042\n",
      "Epoch 17/50\n",
      "50/50 [==============================] - 0s 5ms/step - loss: 2.3072 - accuracy: 0.2096 - val_loss: 2.3141 - val_accuracy: 0.2044\n",
      "Epoch 18/50\n",
      "50/50 [==============================] - 0s 5ms/step - loss: 2.3063 - accuracy: 0.2106 - val_loss: 2.3135 - val_accuracy: 0.2050\n",
      "Epoch 19/50\n",
      "50/50 [==============================] - 0s 5ms/step - loss: 2.3054 - accuracy: 0.2104 - val_loss: 2.3127 - val_accuracy: 0.2048\n",
      "Epoch 20/50\n",
      "50/50 [==============================] - 0s 5ms/step - loss: 2.3047 - accuracy: 0.2104 - val_loss: 2.3121 - val_accuracy: 0.2052\n",
      "Epoch 21/50\n",
      "50/50 [==============================] - 0s 5ms/step - loss: 2.3037 - accuracy: 0.2105 - val_loss: 2.3112 - val_accuracy: 0.2052\n",
      "Epoch 22/50\n",
      "50/50 [==============================] - 0s 5ms/step - loss: 2.3030 - accuracy: 0.2114 - val_loss: 2.3107 - val_accuracy: 0.2052\n",
      "Epoch 23/50\n",
      "50/50 [==============================] - 0s 5ms/step - loss: 2.3025 - accuracy: 0.2107 - val_loss: 2.3103 - val_accuracy: 0.2046\n",
      "Epoch 24/50\n",
      "50/50 [==============================] - 0s 5ms/step - loss: 2.3017 - accuracy: 0.2113 - val_loss: 2.3098 - val_accuracy: 0.2062\n",
      "Epoch 25/50\n",
      "50/50 [==============================] - 0s 5ms/step - loss: 2.3011 - accuracy: 0.2121 - val_loss: 2.3093 - val_accuracy: 0.2072\n",
      "Epoch 26/50\n",
      "50/50 [==============================] - 0s 5ms/step - loss: 2.3005 - accuracy: 0.2123 - val_loss: 2.3095 - val_accuracy: 0.2074\n",
      "Epoch 27/50\n",
      "50/50 [==============================] - 0s 5ms/step - loss: 2.2998 - accuracy: 0.2123 - val_loss: 2.3090 - val_accuracy: 0.2072\n",
      "Epoch 28/50\n",
      "50/50 [==============================] - 0s 5ms/step - loss: 2.2990 - accuracy: 0.2127 - val_loss: 2.3083 - val_accuracy: 0.2074\n",
      "Epoch 29/50\n",
      "50/50 [==============================] - 0s 5ms/step - loss: 2.2984 - accuracy: 0.2130 - val_loss: 2.3074 - val_accuracy: 0.2074\n",
      "Epoch 30/50\n",
      "50/50 [==============================] - 0s 5ms/step - loss: 2.2980 - accuracy: 0.2131 - val_loss: 2.3075 - val_accuracy: 0.2076\n",
      "Epoch 31/50\n",
      "50/50 [==============================] - 0s 6ms/step - loss: 2.2971 - accuracy: 0.2132 - val_loss: 2.3066 - val_accuracy: 0.2072\n",
      "Epoch 32/50\n",
      "50/50 [==============================] - 0s 5ms/step - loss: 2.2967 - accuracy: 0.2129 - val_loss: 2.3064 - val_accuracy: 0.2078\n",
      "Epoch 33/50\n",
      "50/50 [==============================] - 0s 5ms/step - loss: 2.2959 - accuracy: 0.2133 - val_loss: 2.3061 - val_accuracy: 0.2078\n",
      "Epoch 34/50\n",
      "50/50 [==============================] - 0s 5ms/step - loss: 2.2953 - accuracy: 0.2136 - val_loss: 2.3060 - val_accuracy: 0.2084\n",
      "Epoch 35/50\n",
      "50/50 [==============================] - 0s 7ms/step - loss: 2.2949 - accuracy: 0.2135 - val_loss: 2.3052 - val_accuracy: 0.2082\n",
      "Epoch 36/50\n",
      "50/50 [==============================] - 0s 6ms/step - loss: 2.2943 - accuracy: 0.2136 - val_loss: 2.3050 - val_accuracy: 0.2082\n",
      "Epoch 37/50\n",
      "50/50 [==============================] - 0s 5ms/step - loss: 2.2940 - accuracy: 0.2130 - val_loss: 2.3045 - val_accuracy: 0.2088\n",
      "Epoch 38/50\n",
      "50/50 [==============================] - 0s 5ms/step - loss: 2.2932 - accuracy: 0.2139 - val_loss: 2.3044 - val_accuracy: 0.2084\n",
      "Epoch 39/50\n",
      "50/50 [==============================] - 0s 5ms/step - loss: 2.2927 - accuracy: 0.2141 - val_loss: 2.3044 - val_accuracy: 0.2084\n",
      "Epoch 40/50\n",
      "50/50 [==============================] - 0s 5ms/step - loss: 2.2921 - accuracy: 0.2140 - val_loss: 2.3038 - val_accuracy: 0.2088\n",
      "Epoch 41/50\n",
      "50/50 [==============================] - 0s 5ms/step - loss: 2.2916 - accuracy: 0.2144 - val_loss: 2.3039 - val_accuracy: 0.2086\n",
      "Epoch 42/50\n",
      "50/50 [==============================] - 0s 5ms/step - loss: 2.2911 - accuracy: 0.2153 - val_loss: 2.3035 - val_accuracy: 0.2086\n",
      "Epoch 43/50\n",
      "50/50 [==============================] - 0s 5ms/step - loss: 2.2906 - accuracy: 0.2145 - val_loss: 2.3030 - val_accuracy: 0.2084\n",
      "Epoch 44/50\n",
      "50/50 [==============================] - 0s 5ms/step - loss: 2.2902 - accuracy: 0.2156 - val_loss: 2.3027 - val_accuracy: 0.2088\n",
      "Epoch 45/50\n",
      "50/50 [==============================] - 0s 5ms/step - loss: 2.2896 - accuracy: 0.2148 - val_loss: 2.3023 - val_accuracy: 0.2082\n",
      "Epoch 46/50\n",
      "50/50 [==============================] - 0s 5ms/step - loss: 2.2890 - accuracy: 0.2154 - val_loss: 2.3018 - val_accuracy: 0.2084\n",
      "Epoch 47/50\n",
      "50/50 [==============================] - 0s 5ms/step - loss: 2.2885 - accuracy: 0.2152 - val_loss: 2.3020 - val_accuracy: 0.2078\n",
      "Epoch 48/50\n",
      "50/50 [==============================] - 0s 5ms/step - loss: 2.2879 - accuracy: 0.2156 - val_loss: 2.3014 - val_accuracy: 0.2086\n",
      "Epoch 49/50\n",
      "50/50 [==============================] - 0s 5ms/step - loss: 2.2873 - accuracy: 0.2159 - val_loss: 2.3010 - val_accuracy: 0.2084\n",
      "Epoch 50/50\n",
      "50/50 [==============================] - 0s 5ms/step - loss: 2.2867 - accuracy: 0.2161 - val_loss: 2.3007 - val_accuracy: 0.2086\n"
     ]
    }
   ],
   "source": [
    "history = model.fit(\n",
    "    x = X_train, y = y_train, \n",
    "    validation_data=(X_test, y_test),\n",
    "    verbose=1,\n",
    "    epochs=50,\n",
    "    steps_per_epoch=50\n",
    ")"
   ]
  },
  {
   "cell_type": "markdown",
   "metadata": {},
   "source": [
    "Akurasi Data"
   ]
  },
  {
   "cell_type": "code",
   "execution_count": 78,
   "metadata": {},
   "outputs": [
    {
     "name": "stdout",
     "output_type": "stream",
     "text": [
      "Loss   : 2.3006911277770996\n",
      "Akurasi: 0.20863454043865204\n"
     ]
    }
   ],
   "source": [
    "score = model.evaluate(X_test, y_test, verbose=0)\n",
    "print('Loss   :', score[0])\n",
    "print('Akurasi:', score[1])"
   ]
  }
 ],
 "metadata": {
  "kernelspec": {
   "display_name": "Python 3.10.7 64-bit",
   "language": "python",
   "name": "python3"
  },
  "language_info": {
   "codemirror_mode": {
    "name": "ipython",
    "version": 3
   },
   "file_extension": ".py",
   "mimetype": "text/x-python",
   "name": "python",
   "nbconvert_exporter": "python",
   "pygments_lexer": "ipython3",
   "version": "3.10.7"
  },
  "orig_nbformat": 4,
  "vscode": {
   "interpreter": {
    "hash": "4087901ceae5ce8a9d0dd1d65190ccfabacf301eac98c84b3353bfad995f38a2"
   }
  }
 },
 "nbformat": 4,
 "nbformat_minor": 2
}
