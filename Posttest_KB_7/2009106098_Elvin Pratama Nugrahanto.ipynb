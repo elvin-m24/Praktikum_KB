{
 "cells": [
  {
   "cell_type": "markdown",
   "metadata": {},
   "source": [
    "## Import Library"
   ]
  },
  {
   "cell_type": "code",
   "execution_count": 24,
   "metadata": {},
   "outputs": [],
   "source": [
    "import tensorflow as tf"
   ]
  },
  {
   "cell_type": "markdown",
   "metadata": {},
   "source": [
    "## Membuat Tensor dengan shape(5,5)"
   ]
  },
  {
   "cell_type": "code",
   "execution_count": 25,
   "metadata": {},
   "outputs": [],
   "source": [
    "random_tensor = tf.random.normal([5,5],mean=0,stddev=1.0, seed = 1)\n",
    "prime_tensor = tf.constant([2, 3, 5, 7, 11, 13, 17, 19, 23, 29, 31, 37, 41, 43, 47, 53, 59, 61, 67, 71, 73, 79, 83, 89, 97],shape=[5,5], dtype=tf.float32)"
   ]
  },
  {
   "cell_type": "markdown",
   "metadata": {},
   "source": [
    "Tensor dengan nilai random"
   ]
  },
  {
   "cell_type": "code",
   "execution_count": 26,
   "metadata": {},
   "outputs": [
    {
     "data": {
      "text/plain": [
       "<tf.Tensor: shape=(5, 5), dtype=float32, numpy=\n",
       "array([[-0.32386488,  0.99133694,  0.14024267,  1.2573972 ,  0.09992335],\n",
       "       [ 0.18983224, -0.28711194, -1.7413595 ,  1.8718754 , -2.0104504 ],\n",
       "       [-1.4673029 , -1.2721989 , -0.7803738 ,  0.94073033, -0.06164822],\n",
       "       [-2.0842526 ,  0.61423135, -1.451092  , -0.88693523, -0.96740866],\n",
       "       [ 0.94831836, -0.6974499 ,  0.5391437 , -0.52970064, -2.0105364 ]],\n",
       "      dtype=float32)>"
      ]
     },
     "execution_count": 26,
     "metadata": {},
     "output_type": "execute_result"
    }
   ],
   "source": [
    "random_tensor"
   ]
  },
  {
   "cell_type": "markdown",
   "metadata": {},
   "source": [
    "Tensor dengan nilai bilangan prima"
   ]
  },
  {
   "cell_type": "code",
   "execution_count": 27,
   "metadata": {},
   "outputs": [
    {
     "data": {
      "text/plain": [
       "<tf.Tensor: shape=(5, 5), dtype=float32, numpy=\n",
       "array([[ 2.,  3.,  5.,  7., 11.],\n",
       "       [13., 17., 19., 23., 29.],\n",
       "       [31., 37., 41., 43., 47.],\n",
       "       [53., 59., 61., 67., 71.],\n",
       "       [73., 79., 83., 89., 97.]], dtype=float32)>"
      ]
     },
     "execution_count": 27,
     "metadata": {},
     "output_type": "execute_result"
    }
   ],
   "source": [
    "prime_tensor"
   ]
  },
  {
   "cell_type": "markdown",
   "metadata": {},
   "source": [
    "## Menampilkan dimensi\n",
    "\n",
    "Dimensi variabel \"random_tensor\" \\\n",
    "Dimensi variabel \"prime_tensor\""
   ]
  },
  {
   "cell_type": "code",
   "execution_count": 28,
   "metadata": {},
   "outputs": [
    {
     "name": "stdout",
     "output_type": "stream",
     "text": [
      "Dimensi random_tensor : (5, 5)\n",
      "Dimensi prime_tensor  : (5, 5)\n"
     ]
    }
   ],
   "source": [
    "print(\"Dimensi random_tensor :\",random_tensor.shape)\n",
    "print(\"Dimensi prime_tensor  :\",prime_tensor.shape)"
   ]
  },
  {
   "cell_type": "markdown",
   "metadata": {},
   "source": [
    "## Operasi Aritmetika"
   ]
  },
  {
   "cell_type": "markdown",
   "metadata": {},
   "source": [
    "Menampilkan hasil perhitungan random_tensor dan prime_tensor"
   ]
  },
  {
   "cell_type": "markdown",
   "metadata": {},
   "source": [
    "Penambahan"
   ]
  },
  {
   "cell_type": "code",
   "execution_count": 29,
   "metadata": {},
   "outputs": [
    {
     "data": {
      "text/plain": [
       "array([[ 1.6761351,  3.9913368,  5.1402426,  8.257397 , 11.099923 ],\n",
       "       [13.189833 , 16.712889 , 17.25864  , 24.871876 , 26.98955  ],\n",
       "       [29.532698 , 35.727802 , 40.219627 , 43.94073  , 46.93835  ],\n",
       "       [50.91575  , 59.61423  , 59.54891  , 66.11307  , 70.03259  ],\n",
       "       [73.94832  , 78.30255  , 83.53915  , 88.4703   , 94.98946  ]],\n",
       "      dtype=float32)"
      ]
     },
     "execution_count": 29,
     "metadata": {},
     "output_type": "execute_result"
    }
   ],
   "source": [
    "tf.add(random_tensor,prime_tensor).numpy()"
   ]
  },
  {
   "cell_type": "markdown",
   "metadata": {},
   "source": [
    "Pengurangan"
   ]
  },
  {
   "cell_type": "code",
   "execution_count": 30,
   "metadata": {},
   "outputs": [
    {
     "data": {
      "text/plain": [
       "array([[ -2.323865 ,  -2.0086632,  -4.8597574,  -5.742603 , -10.900077 ],\n",
       "       [-12.810167 , -17.287111 , -20.74136  , -21.128124 , -31.01045  ],\n",
       "       [-32.467304 , -38.272198 , -41.780373 , -42.05927  , -47.06165  ],\n",
       "       [-55.08425  , -58.38577  , -62.45109  , -67.88693  , -71.96741  ],\n",
       "       [-72.05168  , -79.69745  , -82.46085  , -89.5297   , -99.01054  ]],\n",
       "      dtype=float32)"
      ]
     },
     "execution_count": 30,
     "metadata": {},
     "output_type": "execute_result"
    }
   ],
   "source": [
    "tf.subtract(random_tensor,prime_tensor).numpy()"
   ]
  },
  {
   "cell_type": "markdown",
   "metadata": {},
   "source": [
    "Perkalian"
   ]
  },
  {
   "cell_type": "code",
   "execution_count": 31,
   "metadata": {},
   "outputs": [
    {
     "data": {
      "text/plain": [
       "array([[  -0.64772975,    2.974011  ,    0.70121336,    8.801781  ,\n",
       "           1.0991569 ],\n",
       "       [   2.4678192 ,   -4.880903  ,  -33.08583   ,   43.053135  ,\n",
       "         -58.303062  ],\n",
       "       [ -45.48639   ,  -47.07136   ,  -31.995327  ,   40.451405  ,\n",
       "          -2.8974664 ],\n",
       "       [-110.465385  ,   36.23965   ,  -88.51661   ,  -59.42466   ,\n",
       "         -68.68601   ],\n",
       "       [  69.22724   ,  -55.098545  ,   44.748924  ,  -47.143356  ,\n",
       "        -195.02203   ]], dtype=float32)"
      ]
     },
     "execution_count": 31,
     "metadata": {},
     "output_type": "execute_result"
    }
   ],
   "source": [
    "tf.multiply(random_tensor,prime_tensor).numpy()"
   ]
  },
  {
   "cell_type": "markdown",
   "metadata": {},
   "source": [
    "Pembagian"
   ]
  },
  {
   "cell_type": "code",
   "execution_count": 32,
   "metadata": {},
   "outputs": [
    {
     "data": {
      "text/plain": [
       "array([[-0.16193244,  0.33044565,  0.02804853,  0.17962816,  0.00908394],\n",
       "       [ 0.01460248, -0.01688894, -0.0916505 ,  0.08138589, -0.06932587],\n",
       "       [-0.04733235, -0.03438376, -0.01903351,  0.02187745, -0.00131166],\n",
       "       [-0.03932552,  0.0104107 , -0.02378839, -0.01323784, -0.01362547],\n",
       "       [ 0.01299066, -0.00882848,  0.00649571, -0.00595169, -0.02072718]],\n",
       "      dtype=float32)"
      ]
     },
     "execution_count": 32,
     "metadata": {},
     "output_type": "execute_result"
    }
   ],
   "source": [
    "tf.divide(random_tensor,prime_tensor).numpy()"
   ]
  },
  {
   "cell_type": "markdown",
   "metadata": {},
   "source": [
    "Pangkat"
   ]
  },
  {
   "cell_type": "code",
   "execution_count": 33,
   "metadata": {},
   "outputs": [
    {
     "data": {
      "text/plain": [
       "array([[ 1.0488846e-01,  9.7423530e-01,  5.4250133e-05,  4.9694390e+00,\n",
       "         9.9160073e-12],\n",
       "       [ 4.1572837e-10, -6.1216887e-10, -3.7746809e+04,  1.8296565e+06,\n",
       "        -6.2446387e+08],\n",
       "       [-1.4524903e+05, -7.3881514e+03, -3.8406979e-05,  7.2277203e-02,\n",
       "        -0.0000000e+00],\n",
       "       [-8.0235882e+16,  3.2477805e-13, -7.3011604e+09, -3.2266942e-04,\n",
       "        -9.5127881e-02],\n",
       "       [ 2.0780388e-02, -4.3403966e-13,  5.3885902e-23, -2.7460855e-25,\n",
       "        -2.6379033e+29]], dtype=float32)"
      ]
     },
     "execution_count": 33,
     "metadata": {},
     "output_type": "execute_result"
    }
   ],
   "source": [
    "tf.pow(random_tensor,prime_tensor).numpy()"
   ]
  },
  {
   "cell_type": "markdown",
   "metadata": {},
   "source": [
    "Logaritma"
   ]
  },
  {
   "cell_type": "code",
   "execution_count": 34,
   "metadata": {},
   "outputs": [
    {
     "data": {
      "text/plain": [
       "array([[        nan, -0.0087008 , -1.964381  ,  0.22904386, -2.3033519 ],\n",
       "       [-1.6616145 ,         nan,         nan,  0.62694085,         nan],\n",
       "       [        nan,         nan,         nan, -0.06109876,         nan],\n",
       "       [        nan, -0.48738366,         nan,         nan,         nan],\n",
       "       [-0.05306501,         nan, -0.6177732 ,         nan,         nan]],\n",
       "      dtype=float32)"
      ]
     },
     "execution_count": 34,
     "metadata": {},
     "output_type": "execute_result"
    }
   ],
   "source": [
    "tf.math.log(random_tensor,prime_tensor).numpy()"
   ]
  },
  {
   "cell_type": "markdown",
   "metadata": {},
   "source": [
    "## Nilai Maksimum dan Minimal Variabel random_tensor"
   ]
  },
  {
   "cell_type": "markdown",
   "metadata": {},
   "source": [
    "Nilai Maksimum"
   ]
  },
  {
   "cell_type": "code",
   "execution_count": 35,
   "metadata": {},
   "outputs": [
    {
     "name": "stdout",
     "output_type": "stream",
     "text": [
      "Nilai Maksimum Kolom : [4 0 4 1 0]\n",
      "Nilai Maksimum Baris : [3 3 3 1 0]\n"
     ]
    }
   ],
   "source": [
    "print(\"Nilai Maksimum Kolom :\",tf.argmax(random_tensor, axis=0).numpy())\n",
    "print(\"Nilai Maksimum Baris :\",tf.argmax(random_tensor, axis=1).numpy())"
   ]
  },
  {
   "cell_type": "markdown",
   "metadata": {},
   "source": [
    "Nilai Minimal"
   ]
  },
  {
   "cell_type": "code",
   "execution_count": 36,
   "metadata": {},
   "outputs": [
    {
     "name": "stdout",
     "output_type": "stream",
     "text": [
      "Nilai Minimal Kolom : [3 2 1 3 4]\n",
      "Nilai Minimal Baris : [0 4 0 0 4]\n"
     ]
    }
   ],
   "source": [
    "print(\"Nilai Minimal Kolom :\",tf.argmin(random_tensor, axis=0).numpy())\n",
    "print(\"Nilai Minimal Baris :\",tf.argmin(random_tensor, axis=1).numpy())"
   ]
  },
  {
   "cell_type": "markdown",
   "metadata": {},
   "source": [
    "## Penggabungan Variable random_tensor dengan prime_tensor"
   ]
  },
  {
   "cell_type": "markdown",
   "metadata": {},
   "source": [
    "Penggabungan Kolom"
   ]
  },
  {
   "cell_type": "code",
   "execution_count": 37,
   "metadata": {},
   "outputs": [
    {
     "name": "stdout",
     "output_type": "stream",
     "text": [
      "[[-3.2386488e-01  9.9133694e-01  1.4024267e-01  1.2573972e+00\n",
      "   9.9923350e-02]\n",
      " [ 1.8983224e-01 -2.8711194e-01 -1.7413595e+00  1.8718754e+00\n",
      "  -2.0104504e+00]\n",
      " [-1.4673029e+00 -1.2721989e+00 -7.8037381e-01  9.4073033e-01\n",
      "  -6.1648224e-02]\n",
      " [-2.0842526e+00  6.1423135e-01 -1.4510920e+00 -8.8693523e-01\n",
      "  -9.6740866e-01]\n",
      " [ 9.4831836e-01 -6.9744992e-01  5.3914368e-01 -5.2970064e-01\n",
      "  -2.0105364e+00]\n",
      " [ 2.0000000e+00  3.0000000e+00  5.0000000e+00  7.0000000e+00\n",
      "   1.1000000e+01]\n",
      " [ 1.3000000e+01  1.7000000e+01  1.9000000e+01  2.3000000e+01\n",
      "   2.9000000e+01]\n",
      " [ 3.1000000e+01  3.7000000e+01  4.1000000e+01  4.3000000e+01\n",
      "   4.7000000e+01]\n",
      " [ 5.3000000e+01  5.9000000e+01  6.1000000e+01  6.7000000e+01\n",
      "   7.1000000e+01]\n",
      " [ 7.3000000e+01  7.9000000e+01  8.3000000e+01  8.9000000e+01\n",
      "   9.7000000e+01]]\n"
     ]
    }
   ],
   "source": [
    "concat_kolom = tf.concat([random_tensor, prime_tensor], axis=0)\n",
    "\n",
    "print(concat_kolom.numpy())\n"
   ]
  },
  {
   "cell_type": "markdown",
   "metadata": {},
   "source": [
    "Penggabungan Baris"
   ]
  },
  {
   "cell_type": "code",
   "execution_count": 38,
   "metadata": {},
   "outputs": [
    {
     "name": "stdout",
     "output_type": "stream",
     "text": [
      "[[-3.2386488e-01  9.9133694e-01  1.4024267e-01  1.2573972e+00\n",
      "   9.9923350e-02  2.0000000e+00  3.0000000e+00  5.0000000e+00\n",
      "   7.0000000e+00  1.1000000e+01]\n",
      " [ 1.8983224e-01 -2.8711194e-01 -1.7413595e+00  1.8718754e+00\n",
      "  -2.0104504e+00  1.3000000e+01  1.7000000e+01  1.9000000e+01\n",
      "   2.3000000e+01  2.9000000e+01]\n",
      " [-1.4673029e+00 -1.2721989e+00 -7.8037381e-01  9.4073033e-01\n",
      "  -6.1648224e-02  3.1000000e+01  3.7000000e+01  4.1000000e+01\n",
      "   4.3000000e+01  4.7000000e+01]\n",
      " [-2.0842526e+00  6.1423135e-01 -1.4510920e+00 -8.8693523e-01\n",
      "  -9.6740866e-01  5.3000000e+01  5.9000000e+01  6.1000000e+01\n",
      "   6.7000000e+01  7.1000000e+01]\n",
      " [ 9.4831836e-01 -6.9744992e-01  5.3914368e-01 -5.2970064e-01\n",
      "  -2.0105364e+00  7.3000000e+01  7.9000000e+01  8.3000000e+01\n",
      "   8.9000000e+01  9.7000000e+01]]\n"
     ]
    }
   ],
   "source": [
    "concat_baris = tf.concat([random_tensor, prime_tensor], axis=1)\n",
    "\n",
    "print(concat_baris.numpy())"
   ]
  },
  {
   "cell_type": "markdown",
   "metadata": {},
   "source": [
    "## Sorting secara DESCENDING\n",
    "\n",
    "Variabel random_tensor"
   ]
  },
  {
   "cell_type": "code",
   "execution_count": 39,
   "metadata": {},
   "outputs": [
    {
     "data": {
      "text/plain": [
       "array([[ 1.2573972 ,  0.99133694,  0.14024267,  0.09992335, -0.32386488],\n",
       "       [ 1.8718754 ,  0.18983224, -0.28711194, -1.7413595 , -2.0104504 ],\n",
       "       [ 0.94073033, -0.06164822, -0.7803738 , -1.2721989 , -1.4673029 ],\n",
       "       [ 0.61423135, -0.88693523, -0.96740866, -1.451092  , -2.0842526 ],\n",
       "       [ 0.94831836,  0.5391437 , -0.52970064, -0.6974499 , -2.0105364 ]],\n",
       "      dtype=float32)"
      ]
     },
     "execution_count": 39,
     "metadata": {},
     "output_type": "execute_result"
    }
   ],
   "source": [
    "sort_random = tf.sort(random_tensor, direction=\"DESCENDING\")\n",
    "\n",
    "sort_random.numpy()\n"
   ]
  },
  {
   "cell_type": "markdown",
   "metadata": {},
   "source": [
    "Variabel prime_tensor"
   ]
  },
  {
   "cell_type": "code",
   "execution_count": 40,
   "metadata": {},
   "outputs": [
    {
     "data": {
      "text/plain": [
       "array([[11.,  7.,  5.,  3.,  2.],\n",
       "       [29., 23., 19., 17., 13.],\n",
       "       [47., 43., 41., 37., 31.],\n",
       "       [71., 67., 61., 59., 53.],\n",
       "       [97., 89., 83., 79., 73.]], dtype=float32)"
      ]
     },
     "execution_count": 40,
     "metadata": {},
     "output_type": "execute_result"
    }
   ],
   "source": [
    "sort_prime = tf.sort(prime_tensor, direction=\"DESCENDING\")\n",
    "\n",
    "sort_prime.numpy()"
   ]
  }
 ],
 "metadata": {
  "kernelspec": {
   "display_name": "Python 3.10.7 64-bit",
   "language": "python",
   "name": "python3"
  },
  "language_info": {
   "codemirror_mode": {
    "name": "ipython",
    "version": 3
   },
   "file_extension": ".py",
   "mimetype": "text/x-python",
   "name": "python",
   "nbconvert_exporter": "python",
   "pygments_lexer": "ipython3",
   "version": "3.10.7"
  },
  "orig_nbformat": 4,
  "vscode": {
   "interpreter": {
    "hash": "4087901ceae5ce8a9d0dd1d65190ccfabacf301eac98c84b3353bfad995f38a2"
   }
  }
 },
 "nbformat": 4,
 "nbformat_minor": 2
}
