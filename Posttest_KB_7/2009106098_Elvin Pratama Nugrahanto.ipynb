{
 "cells": [
  {
   "cell_type": "markdown",
   "metadata": {},
   "source": [
    "## Import Library"
   ]
  },
  {
   "cell_type": "code",
   "execution_count": 43,
   "metadata": {},
   "outputs": [],
   "source": [
    "import tensorflow as tf"
   ]
  },
  {
   "cell_type": "markdown",
   "metadata": {},
   "source": [
    "## Membuat Tensor dengan shape(5,5)"
   ]
  },
  {
   "cell_type": "code",
   "execution_count": 44,
   "metadata": {},
   "outputs": [],
   "source": [
    "random_tensor = tf.random.normal([5,5],mean=0,stddev=1.0, seed = 1)\n",
    "prime_tensor = tf.constant([2, 3, 5, 7, 11, 13, 17, 19, 23, 29, 31, 37, 41, 43, 47, 53, 59, 61, 67, 71, 73, 79, 83, 89, 97],shape=[5,5], dtype=tf.float32)"
   ]
  },
  {
   "cell_type": "markdown",
   "metadata": {},
   "source": [
    "Tensor dengan nilai random"
   ]
  },
  {
   "cell_type": "code",
   "execution_count": 45,
   "metadata": {},
   "outputs": [
    {
     "data": {
      "text/plain": [
       "array([[-0.28433853,  0.8922832 ,  0.8983451 ,  0.7163981 ,  0.34969485],\n",
       "       [-0.37960768,  0.01531979,  0.27423722, -2.214901  , -0.08514621],\n",
       "       [ 1.0113182 ,  0.6616626 ,  1.383323  , -0.40465203,  0.86142987],\n",
       "       [-0.12589967, -1.418615  ,  2.0295074 ,  0.15304402,  0.13658497],\n",
       "       [-0.49787143,  0.38847125, -0.4244715 ,  0.46214256, -0.5444318 ]],\n",
       "      dtype=float32)"
      ]
     },
     "execution_count": 45,
     "metadata": {},
     "output_type": "execute_result"
    }
   ],
   "source": [
    "random_tensor.numpy()"
   ]
  },
  {
   "cell_type": "markdown",
   "metadata": {},
   "source": [
    "Tensor dengan nilai bilangan prima"
   ]
  },
  {
   "cell_type": "code",
   "execution_count": 46,
   "metadata": {},
   "outputs": [
    {
     "data": {
      "text/plain": [
       "array([[ 2.,  3.,  5.,  7., 11.],\n",
       "       [13., 17., 19., 23., 29.],\n",
       "       [31., 37., 41., 43., 47.],\n",
       "       [53., 59., 61., 67., 71.],\n",
       "       [73., 79., 83., 89., 97.]], dtype=float32)"
      ]
     },
     "execution_count": 46,
     "metadata": {},
     "output_type": "execute_result"
    }
   ],
   "source": [
    "prime_tensor.numpy()"
   ]
  },
  {
   "cell_type": "markdown",
   "metadata": {},
   "source": [
    "## Menampilkan dimensi\n",
    "\n",
    "Dimensi variabel \"random_tensor\" \\\n",
    "Dimensi variabel \"prime_tensor\""
   ]
  },
  {
   "cell_type": "code",
   "execution_count": 47,
   "metadata": {},
   "outputs": [
    {
     "name": "stdout",
     "output_type": "stream",
     "text": [
      "Dimensi random_tensor : (5, 5)\n",
      "Dimensi prime_tensor  : (5, 5)\n"
     ]
    }
   ],
   "source": [
    "print(\"Dimensi random_tensor :\",random_tensor.shape)\n",
    "print(\"Dimensi prime_tensor  :\",prime_tensor.shape)"
   ]
  },
  {
   "cell_type": "markdown",
   "metadata": {},
   "source": [
    "## Operasi Aritmetika"
   ]
  },
  {
   "cell_type": "markdown",
   "metadata": {},
   "source": [
    "Menampilkan hasil perhitungan random_tensor dan prime_tensor"
   ]
  },
  {
   "cell_type": "markdown",
   "metadata": {},
   "source": [
    "Penambahan"
   ]
  },
  {
   "cell_type": "code",
   "execution_count": 48,
   "metadata": {},
   "outputs": [
    {
     "data": {
      "text/plain": [
       "array([[ 1.7156615,  3.8922832,  5.898345 ,  7.7163982, 11.349695 ],\n",
       "       [12.620392 , 17.01532  , 19.274237 , 20.785099 , 28.914854 ],\n",
       "       [32.01132  , 37.661663 , 42.383324 , 42.59535  , 47.86143  ],\n",
       "       [52.8741   , 57.581387 , 63.029507 , 67.153046 , 71.13658  ],\n",
       "       [72.50213  , 79.38847  , 82.57553  , 89.46214  , 96.45557  ]],\n",
       "      dtype=float32)"
      ]
     },
     "execution_count": 48,
     "metadata": {},
     "output_type": "execute_result"
    }
   ],
   "source": [
    "tf.add(random_tensor,prime_tensor).numpy()"
   ]
  },
  {
   "cell_type": "markdown",
   "metadata": {},
   "source": [
    "Pengurangan"
   ]
  },
  {
   "cell_type": "code",
   "execution_count": 49,
   "metadata": {},
   "outputs": [
    {
     "data": {
      "text/plain": [
       "array([[ -2.2843385,  -2.1077168,  -4.101655 ,  -6.2836018, -10.650305 ],\n",
       "       [-13.379608 , -16.98468  , -18.725763 , -25.214901 , -29.085146 ],\n",
       "       [-29.988682 , -36.338337 , -39.616676 , -43.40465  , -46.13857  ],\n",
       "       [-53.1259   , -60.418613 , -58.970493 , -66.846954 , -70.86342  ],\n",
       "       [-73.49787  , -78.61153  , -83.42447  , -88.53786  , -97.54443  ]],\n",
       "      dtype=float32)"
      ]
     },
     "execution_count": 49,
     "metadata": {},
     "output_type": "execute_result"
    }
   ],
   "source": [
    "tf.subtract(random_tensor,prime_tensor).numpy()"
   ]
  },
  {
   "cell_type": "markdown",
   "metadata": {},
   "source": [
    "Perkalian"
   ]
  },
  {
   "cell_type": "code",
   "execution_count": 50,
   "metadata": {},
   "outputs": [
    {
     "data": {
      "text/plain": [
       "array([[ -0.56867707,   2.6768496 ,   4.4917254 ,   5.0147867 ,\n",
       "          3.8466434 ],\n",
       "       [ -4.9349    ,   0.2604365 ,   5.210507  , -50.942722  ,\n",
       "         -2.4692402 ],\n",
       "       [ 31.350864  ,  24.481516  ,  56.71624   , -17.400038  ,\n",
       "         40.487206  ],\n",
       "       [ -6.672683  , -83.69828   , 123.79995   ,  10.253949  ,\n",
       "          9.697533  ],\n",
       "       [-36.344616  ,  30.689228  , -35.231133  ,  41.130688  ,\n",
       "        -52.809887  ]], dtype=float32)"
      ]
     },
     "execution_count": 50,
     "metadata": {},
     "output_type": "execute_result"
    }
   ],
   "source": [
    "tf.multiply(random_tensor,prime_tensor).numpy()"
   ]
  },
  {
   "cell_type": "markdown",
   "metadata": {},
   "source": [
    "Pembagian"
   ]
  },
  {
   "cell_type": "code",
   "execution_count": 51,
   "metadata": {},
   "outputs": [
    {
     "data": {
      "text/plain": [
       "array([[-0.14216927,  0.29742774,  0.17966902,  0.10234259,  0.03179044],\n",
       "       [-0.02920059,  0.00090116,  0.01443354, -0.09630004, -0.00293608],\n",
       "       [ 0.03262317,  0.01788277,  0.03373959, -0.00941051,  0.0183283 ],\n",
       "       [-0.00237547, -0.02404432,  0.03327061,  0.00228424,  0.00192373],\n",
       "       [-0.00682016,  0.00491736, -0.00511411,  0.00519261, -0.0056127 ]],\n",
       "      dtype=float32)"
      ]
     },
     "execution_count": 51,
     "metadata": {},
     "output_type": "execute_result"
    }
   ],
   "source": [
    "tf.divide(random_tensor,prime_tensor).numpy()"
   ]
  },
  {
   "cell_type": "markdown",
   "metadata": {},
   "source": [
    "Pangkat"
   ]
  },
  {
   "cell_type": "code",
   "execution_count": 52,
   "metadata": {},
   "outputs": [
    {
     "data": {
      "text/plain": [
       "array([[ 8.08484033e-02,  7.10408509e-01,  5.85081041e-01,\n",
       "         9.68458578e-02,  9.56272288e-06],\n",
       "       [-3.39902863e-06,  1.41026244e-31,  2.11057803e-11,\n",
       "        -8.77302160e+07, -9.43614219e-32],\n",
       "       [ 1.41749847e+00,  2.30968737e-07,  5.99607312e+05,\n",
       "        -1.27207896e-17,  9.02270083e-04],\n",
       "       [-0.00000000e+00, -9.12027648e+08,  5.63415762e+18,\n",
       "         0.00000000e+00,  0.00000000e+00],\n",
       "       [-7.75453741e-23,  3.62536196e-33, -1.29249318e-31,\n",
       "         1.46238155e-30, -2.43510900e-26]], dtype=float32)"
      ]
     },
     "execution_count": 52,
     "metadata": {},
     "output_type": "execute_result"
    }
   ],
   "source": [
    "tf.pow(random_tensor,prime_tensor).numpy()"
   ]
  },
  {
   "cell_type": "markdown",
   "metadata": {},
   "source": [
    "Logaritma"
   ]
  },
  {
   "cell_type": "code",
   "execution_count": 53,
   "metadata": {},
   "outputs": [
    {
     "data": {
      "text/plain": [
       "array([[        nan, -0.1139717 , -0.10720097, -0.33351925, -1.0506945 ],\n",
       "       [        nan, -4.1786094 , -1.2937618 ,         nan,         nan],\n",
       "       [ 0.01125463, -0.41299957,  0.32448855,         nan, -0.14916162],\n",
       "       [        nan,         nan,  0.7077931 , -1.8770298 , -1.9908084 ],\n",
       "       [        nan, -0.94553614,         nan, -0.7718819 ,         nan]],\n",
       "      dtype=float32)"
      ]
     },
     "execution_count": 53,
     "metadata": {},
     "output_type": "execute_result"
    }
   ],
   "source": [
    "tf.math.log(random_tensor,prime_tensor).numpy()"
   ]
  },
  {
   "cell_type": "markdown",
   "metadata": {},
   "source": [
    "## Nilai Maksimum dan Minimal Variabel random_tensor"
   ]
  },
  {
   "cell_type": "markdown",
   "metadata": {},
   "source": [
    "Nilai Maksimum"
   ]
  },
  {
   "cell_type": "code",
   "execution_count": 54,
   "metadata": {},
   "outputs": [
    {
     "name": "stdout",
     "output_type": "stream",
     "text": [
      "Nilai Maksimum Kolom : [2 0 3 0 2]\n",
      "Nilai Maksimum Baris : [2 2 2 2 3]\n"
     ]
    }
   ],
   "source": [
    "print(\"Nilai Maksimum Kolom :\",tf.argmax(random_tensor, axis=0).numpy())\n",
    "print(\"Nilai Maksimum Baris :\",tf.argmax(random_tensor, axis=1).numpy())"
   ]
  },
  {
   "cell_type": "markdown",
   "metadata": {},
   "source": [
    "Nilai Minimal"
   ]
  },
  {
   "cell_type": "code",
   "execution_count": 55,
   "metadata": {},
   "outputs": [
    {
     "name": "stdout",
     "output_type": "stream",
     "text": [
      "Nilai Minimal Kolom : [4 3 4 1 4]\n",
      "Nilai Minimal Baris : [0 3 3 1 4]\n"
     ]
    }
   ],
   "source": [
    "print(\"Nilai Minimal Kolom :\",tf.argmin(random_tensor, axis=0).numpy())\n",
    "print(\"Nilai Minimal Baris :\",tf.argmin(random_tensor, axis=1).numpy())"
   ]
  },
  {
   "cell_type": "markdown",
   "metadata": {},
   "source": [
    "## Penggabungan Variable random_tensor dengan prime_tensor"
   ]
  },
  {
   "cell_type": "markdown",
   "metadata": {},
   "source": [
    "Penggabungan Kolom"
   ]
  },
  {
   "cell_type": "code",
   "execution_count": 56,
   "metadata": {},
   "outputs": [
    {
     "name": "stdout",
     "output_type": "stream",
     "text": [
      "[[-2.8433853e-01  8.9228320e-01  8.9834511e-01  7.1639812e-01\n",
      "   3.4969485e-01]\n",
      " [-3.7960768e-01  1.5319794e-02  2.7423722e-01 -2.2149010e+00\n",
      "  -8.5146211e-02]\n",
      " [ 1.0113182e+00  6.6166258e-01  1.3833230e+00 -4.0465203e-01\n",
      "   8.6142987e-01]\n",
      " [-1.2589967e-01 -1.4186150e+00  2.0295074e+00  1.5304402e-01\n",
      "   1.3658497e-01]\n",
      " [-4.9787143e-01  3.8847125e-01 -4.2447150e-01  4.6214256e-01\n",
      "  -5.4443181e-01]\n",
      " [ 2.0000000e+00  3.0000000e+00  5.0000000e+00  7.0000000e+00\n",
      "   1.1000000e+01]\n",
      " [ 1.3000000e+01  1.7000000e+01  1.9000000e+01  2.3000000e+01\n",
      "   2.9000000e+01]\n",
      " [ 3.1000000e+01  3.7000000e+01  4.1000000e+01  4.3000000e+01\n",
      "   4.7000000e+01]\n",
      " [ 5.3000000e+01  5.9000000e+01  6.1000000e+01  6.7000000e+01\n",
      "   7.1000000e+01]\n",
      " [ 7.3000000e+01  7.9000000e+01  8.3000000e+01  8.9000000e+01\n",
      "   9.7000000e+01]]\n"
     ]
    }
   ],
   "source": [
    "concat_kolom = tf.concat([random_tensor, prime_tensor], axis=0)\n",
    "\n",
    "print(concat_kolom.numpy())\n"
   ]
  },
  {
   "cell_type": "markdown",
   "metadata": {},
   "source": [
    "Penggabungan Baris"
   ]
  },
  {
   "cell_type": "code",
   "execution_count": 57,
   "metadata": {},
   "outputs": [
    {
     "name": "stdout",
     "output_type": "stream",
     "text": [
      "[[-2.8433853e-01  8.9228320e-01  8.9834511e-01  7.1639812e-01\n",
      "   3.4969485e-01  2.0000000e+00  3.0000000e+00  5.0000000e+00\n",
      "   7.0000000e+00  1.1000000e+01]\n",
      " [-3.7960768e-01  1.5319794e-02  2.7423722e-01 -2.2149010e+00\n",
      "  -8.5146211e-02  1.3000000e+01  1.7000000e+01  1.9000000e+01\n",
      "   2.3000000e+01  2.9000000e+01]\n",
      " [ 1.0113182e+00  6.6166258e-01  1.3833230e+00 -4.0465203e-01\n",
      "   8.6142987e-01  3.1000000e+01  3.7000000e+01  4.1000000e+01\n",
      "   4.3000000e+01  4.7000000e+01]\n",
      " [-1.2589967e-01 -1.4186150e+00  2.0295074e+00  1.5304402e-01\n",
      "   1.3658497e-01  5.3000000e+01  5.9000000e+01  6.1000000e+01\n",
      "   6.7000000e+01  7.1000000e+01]\n",
      " [-4.9787143e-01  3.8847125e-01 -4.2447150e-01  4.6214256e-01\n",
      "  -5.4443181e-01  7.3000000e+01  7.9000000e+01  8.3000000e+01\n",
      "   8.9000000e+01  9.7000000e+01]]\n"
     ]
    }
   ],
   "source": [
    "concat_baris = tf.concat([random_tensor, prime_tensor], axis=1)\n",
    "\n",
    "print(concat_baris.numpy())"
   ]
  },
  {
   "cell_type": "markdown",
   "metadata": {},
   "source": [
    "## Sorting secara DESCENDING\n",
    "\n",
    "Variabel random_tensor"
   ]
  },
  {
   "cell_type": "code",
   "execution_count": 58,
   "metadata": {},
   "outputs": [
    {
     "data": {
      "text/plain": [
       "array([[ 0.8983451 ,  0.8922832 ,  0.7163981 ,  0.34969485, -0.28433853],\n",
       "       [ 0.27423722,  0.01531979, -0.08514621, -0.37960768, -2.214901  ],\n",
       "       [ 1.383323  ,  1.0113182 ,  0.86142987,  0.6616626 , -0.40465203],\n",
       "       [ 2.0295074 ,  0.15304402,  0.13658497, -0.12589967, -1.418615  ],\n",
       "       [ 0.46214256,  0.38847125, -0.4244715 , -0.49787143, -0.5444318 ]],\n",
       "      dtype=float32)"
      ]
     },
     "execution_count": 58,
     "metadata": {},
     "output_type": "execute_result"
    }
   ],
   "source": [
    "sort_random = tf.sort(random_tensor, direction=\"DESCENDING\")\n",
    "\n",
    "sort_random.numpy()\n"
   ]
  },
  {
   "cell_type": "markdown",
   "metadata": {},
   "source": [
    "Variabel prime_tensor"
   ]
  },
  {
   "cell_type": "code",
   "execution_count": 59,
   "metadata": {},
   "outputs": [
    {
     "data": {
      "text/plain": [
       "array([[11.,  7.,  5.,  3.,  2.],\n",
       "       [29., 23., 19., 17., 13.],\n",
       "       [47., 43., 41., 37., 31.],\n",
       "       [71., 67., 61., 59., 53.],\n",
       "       [97., 89., 83., 79., 73.]], dtype=float32)"
      ]
     },
     "execution_count": 59,
     "metadata": {},
     "output_type": "execute_result"
    }
   ],
   "source": [
    "sort_prime = tf.sort(prime_tensor, direction=\"DESCENDING\")\n",
    "\n",
    "sort_prime.numpy()"
   ]
  }
 ],
 "metadata": {
  "kernelspec": {
   "display_name": "Python 3.10.7 64-bit",
   "language": "python",
   "name": "python3"
  },
  "language_info": {
   "codemirror_mode": {
    "name": "ipython",
    "version": 3
   },
   "file_extension": ".py",
   "mimetype": "text/x-python",
   "name": "python",
   "nbconvert_exporter": "python",
   "pygments_lexer": "ipython3",
   "version": "3.10.7"
  },
  "orig_nbformat": 4,
  "vscode": {
   "interpreter": {
    "hash": "4087901ceae5ce8a9d0dd1d65190ccfabacf301eac98c84b3353bfad995f38a2"
   }
  }
 },
 "nbformat": 4,
 "nbformat_minor": 2
}
