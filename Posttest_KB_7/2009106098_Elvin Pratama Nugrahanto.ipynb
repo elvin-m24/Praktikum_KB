{
 "cells": [
  {
   "cell_type": "markdown",
   "metadata": {},
   "source": [
    "## Import Library"
   ]
  },
  {
   "cell_type": "code",
   "execution_count": 90,
   "metadata": {},
   "outputs": [],
   "source": [
    "import tensorflow as tf"
   ]
  },
  {
   "cell_type": "markdown",
   "metadata": {},
   "source": [
    "## Membuat Tensor dengan shape(5,5)"
   ]
  },
  {
   "cell_type": "code",
   "execution_count": 91,
   "metadata": {},
   "outputs": [],
   "source": [
    "random_tensor = tf.random.normal([5,5],mean=0,stddev=1.0, seed = 1)\n",
    "prime_tensor = tf.constant([2, 3, 5, 7, 11, 13, 17, 19, 23, 29, 31, 37, 41, 43, 47, 53, 59, 61, 67, 71, 73, 79, 83, 89, 97],shape=[5,5], dtype=tf.float32)"
   ]
  },
  {
   "cell_type": "markdown",
   "metadata": {},
   "source": [
    "Tensor dengan nilai random"
   ]
  },
  {
   "cell_type": "code",
   "execution_count": 92,
   "metadata": {},
   "outputs": [
    {
     "data": {
      "text/plain": [
       "<tf.Tensor: shape=(5, 5), dtype=float32, numpy=\n",
       "array([[ 0.02631566,  0.59973025,  2.1930096 ,  0.70548636, -0.15317097],\n",
       "       [-0.87380695, -0.41602153,  0.10885387, -0.30898607, -0.08477694],\n",
       "       [-1.4043791 ,  0.3359162 , -0.5440277 , -0.6701393 , -1.1809127 ],\n",
       "       [-1.1672325 ,  1.168095  , -0.6827249 ,  1.2158072 ,  0.6584982 ],\n",
       "       [ 0.20425868,  0.07945652,  0.07206825, -0.4303542 , -0.32767358]],\n",
       "      dtype=float32)>"
      ]
     },
     "execution_count": 92,
     "metadata": {},
     "output_type": "execute_result"
    }
   ],
   "source": [
    "random_tensor"
   ]
  },
  {
   "cell_type": "markdown",
   "metadata": {},
   "source": [
    "Tensor dengan nilai bilangan prima"
   ]
  },
  {
   "cell_type": "code",
   "execution_count": 93,
   "metadata": {},
   "outputs": [
    {
     "data": {
      "text/plain": [
       "<tf.Tensor: shape=(5, 5), dtype=float32, numpy=\n",
       "array([[ 2.,  3.,  5.,  7., 11.],\n",
       "       [13., 17., 19., 23., 29.],\n",
       "       [31., 37., 41., 43., 47.],\n",
       "       [53., 59., 61., 67., 71.],\n",
       "       [73., 79., 83., 89., 97.]], dtype=float32)>"
      ]
     },
     "execution_count": 93,
     "metadata": {},
     "output_type": "execute_result"
    }
   ],
   "source": [
    "prime_tensor"
   ]
  },
  {
   "cell_type": "markdown",
   "metadata": {},
   "source": [
    "## Menampilkan dimensi\n",
    "\n",
    "Dimensi variabel \"random_tensor\" \\\n",
    "Dimensi variabel \"prime_tensor\""
   ]
  },
  {
   "cell_type": "code",
   "execution_count": 94,
   "metadata": {},
   "outputs": [
    {
     "name": "stdout",
     "output_type": "stream",
     "text": [
      "Dimensi random_tensor : (5, 5)\n",
      "Dimensi prime_tensor  : (5, 5)\n"
     ]
    }
   ],
   "source": [
    "print(\"Dimensi random_tensor :\",random_tensor.shape)\n",
    "print(\"Dimensi prime_tensor  :\",prime_tensor.shape)"
   ]
  },
  {
   "cell_type": "markdown",
   "metadata": {},
   "source": [
    "## Operasi Aritmetika"
   ]
  },
  {
   "cell_type": "markdown",
   "metadata": {},
   "source": [
    "Menampilkan hasil perhitungan random_tensor dan prime_tensor"
   ]
  },
  {
   "cell_type": "markdown",
   "metadata": {},
   "source": [
    "Penambahan"
   ]
  },
  {
   "cell_type": "code",
   "execution_count": 95,
   "metadata": {},
   "outputs": [
    {
     "data": {
      "text/plain": [
       "<tf.Tensor: shape=(5, 5), dtype=float32, numpy=\n",
       "array([[ 2.0263157,  3.5997303,  7.1930094,  7.7054863, 10.846829 ],\n",
       "       [12.126193 , 16.583979 , 19.108854 , 22.691013 , 28.915222 ],\n",
       "       [29.595621 , 37.335915 , 40.45597  , 42.32986  , 45.819088 ],\n",
       "       [51.832767 , 60.168095 , 60.317276 , 68.215805 , 71.6585   ],\n",
       "       [73.20426  , 79.07946  , 83.07207  , 88.56965  , 96.672325 ]],\n",
       "      dtype=float32)>"
      ]
     },
     "execution_count": 95,
     "metadata": {},
     "output_type": "execute_result"
    }
   ],
   "source": [
    "tf.add(random_tensor,prime_tensor)"
   ]
  },
  {
   "cell_type": "markdown",
   "metadata": {},
   "source": [
    "Pengurangan"
   ]
  },
  {
   "cell_type": "code",
   "execution_count": 96,
   "metadata": {},
   "outputs": [
    {
     "data": {
      "text/plain": [
       "<tf.Tensor: shape=(5, 5), dtype=float32, numpy=\n",
       "array([[ -1.9736843,  -2.4002697,  -2.8069904,  -6.2945137, -11.153171 ],\n",
       "       [-13.873807 , -17.416021 , -18.891146 , -23.308987 , -29.084778 ],\n",
       "       [-32.40438  , -36.664085 , -41.54403  , -43.67014  , -48.180912 ],\n",
       "       [-54.167233 , -57.831905 , -61.682724 , -65.784195 , -70.3415   ],\n",
       "       [-72.79574  , -78.92054  , -82.92793  , -89.43035  , -97.327675 ]],\n",
       "      dtype=float32)>"
      ]
     },
     "execution_count": 96,
     "metadata": {},
     "output_type": "execute_result"
    }
   ],
   "source": [
    "tf.subtract(random_tensor,prime_tensor)"
   ]
  },
  {
   "cell_type": "markdown",
   "metadata": {},
   "source": [
    "Perkalian"
   ]
  },
  {
   "cell_type": "code",
   "execution_count": 97,
   "metadata": {},
   "outputs": [
    {
     "data": {
      "text/plain": [
       "<tf.Tensor: shape=(5, 5), dtype=float32, numpy=\n",
       "array([[ 5.2631319e-02,  1.7991908e+00,  1.0965048e+01,  4.9384046e+00,\n",
       "        -1.6848807e+00],\n",
       "       [-1.1359490e+01, -7.0723658e+00,  2.0682235e+00, -7.1066794e+00,\n",
       "        -2.4585311e+00],\n",
       "       [-4.3535751e+01,  1.2428899e+01, -2.2305136e+01, -2.8815990e+01,\n",
       "        -5.5502899e+01],\n",
       "       [-6.1863323e+01,  6.8917603e+01, -4.1646217e+01,  8.1459084e+01,\n",
       "         4.6753376e+01],\n",
       "       [ 1.4910884e+01,  6.2770653e+00,  5.9816647e+00, -3.8301525e+01,\n",
       "        -3.1784338e+01]], dtype=float32)>"
      ]
     },
     "execution_count": 97,
     "metadata": {},
     "output_type": "execute_result"
    }
   ],
   "source": [
    "tf.multiply(random_tensor,prime_tensor)"
   ]
  },
  {
   "cell_type": "markdown",
   "metadata": {},
   "source": [
    "Pembagian"
   ]
  },
  {
   "cell_type": "code",
   "execution_count": 98,
   "metadata": {},
   "outputs": [
    {
     "data": {
      "text/plain": [
       "<tf.Tensor: shape=(5, 5), dtype=float32, numpy=\n",
       "array([[ 0.01315783,  0.19991009,  0.4386019 ,  0.10078377, -0.01392463],\n",
       "       [-0.06721592, -0.02447185,  0.00572915, -0.01343418, -0.00292334],\n",
       "       [-0.04530255,  0.00907882, -0.01326897, -0.01558464, -0.0251258 ],\n",
       "       [-0.02202326,  0.01979822, -0.01119221,  0.01814638,  0.00927462],\n",
       "       [ 0.00279806,  0.00100578,  0.00086829, -0.00483544, -0.00337808]],\n",
       "      dtype=float32)>"
      ]
     },
     "execution_count": 98,
     "metadata": {},
     "output_type": "execute_result"
    }
   ],
   "source": [
    "tf.divide(random_tensor,prime_tensor)"
   ]
  },
  {
   "cell_type": "markdown",
   "metadata": {},
   "source": [
    "Pangkat"
   ]
  },
  {
   "cell_type": "code",
   "execution_count": 99,
   "metadata": {},
   "outputs": [
    {
     "data": {
      "text/plain": [
       "<tf.Tensor: shape=(5, 5), dtype=float32, numpy=\n",
       "array([[ 6.9251395e-04,  2.1570881e-01,  5.0722736e+01,  8.6980186e-02,\n",
       "        -1.0887826e-09],\n",
       "       [-1.7314161e-01, -3.3494126e-07,  5.0122596e-19, -1.8560713e-12,\n",
       "        -8.3186732e-32],\n",
       "       [-3.7326336e+04,  2.9549129e-18, -1.4469752e-11, -3.3504190e-08,\n",
       "        -2.4787734e+03],\n",
       "       [-3.6252749e+03,  9.5766045e+03, -7.7444398e-11,  4.8521656e+05,\n",
       "         1.3103199e-13],\n",
       "       [ 0.0000000e+00,  0.0000000e+00,  0.0000000e+00, -2.5734679e-33,\n",
       "        -0.0000000e+00]], dtype=float32)>"
      ]
     },
     "execution_count": 99,
     "metadata": {},
     "output_type": "execute_result"
    }
   ],
   "source": [
    "tf.pow(random_tensor,prime_tensor)"
   ]
  },
  {
   "cell_type": "markdown",
   "metadata": {},
   "source": [
    "Logaritma"
   ]
  },
  {
   "cell_type": "code",
   "execution_count": 100,
   "metadata": {},
   "outputs": [
    {
     "data": {
      "text/plain": [
       "<tf.Tensor: shape=(5, 5), dtype=float32, numpy=\n",
       "array([[-3.6375911 , -0.5112753 ,  0.78527486, -0.34886786,         nan],\n",
       "       [        nan,         nan, -2.2177489 ,         nan,         nan],\n",
       "       [        nan, -1.0908935 ,         nan,         nan,         nan],\n",
       "       [        nan,  0.15537421,         nan,  0.19540821, -0.41779348],\n",
       "       [-1.588368  , -2.5325453 , -2.6301417 ,         nan,         nan]],\n",
       "      dtype=float32)>"
      ]
     },
     "execution_count": 100,
     "metadata": {},
     "output_type": "execute_result"
    }
   ],
   "source": [
    "tf.math.log(random_tensor,prime_tensor)"
   ]
  },
  {
   "cell_type": "markdown",
   "metadata": {},
   "source": [
    "## Nilai Maksimum dan Minimal Variabel random_tensor"
   ]
  },
  {
   "cell_type": "markdown",
   "metadata": {},
   "source": [
    "Nilai Maksimum"
   ]
  },
  {
   "cell_type": "code",
   "execution_count": 101,
   "metadata": {},
   "outputs": [
    {
     "name": "stdout",
     "output_type": "stream",
     "text": [
      "Nilai Maksimum Kolom : [4 3 0 3 3]\n",
      "Nilai Maksimum Baris : [2 2 1 3 0]\n"
     ]
    }
   ],
   "source": [
    "print(\"Nilai Maksimum Kolom :\",tf.argmax(random_tensor, axis=0).numpy())\n",
    "print(\"Nilai Maksimum Baris :\",tf.argmax(random_tensor, axis=1).numpy())"
   ]
  },
  {
   "cell_type": "markdown",
   "metadata": {},
   "source": [
    "Nilai Minimal"
   ]
  },
  {
   "cell_type": "code",
   "execution_count": 102,
   "metadata": {},
   "outputs": [
    {
     "name": "stdout",
     "output_type": "stream",
     "text": [
      "Nilai Minimal Kolom : [2 1 3 2 2]\n",
      "Nilai Minimal Baris : [4 0 0 0 3]\n"
     ]
    }
   ],
   "source": [
    "print(\"Nilai Minimal Kolom :\",tf.argmin(random_tensor, axis=0).numpy())\n",
    "print(\"Nilai Minimal Baris :\",tf.argmin(random_tensor, axis=1).numpy())"
   ]
  },
  {
   "cell_type": "markdown",
   "metadata": {},
   "source": [
    "## Penggabungan Variable random_tensor dengan prime_tensor"
   ]
  },
  {
   "cell_type": "markdown",
   "metadata": {},
   "source": [
    "Penggabungan Kolom"
   ]
  },
  {
   "cell_type": "code",
   "execution_count": 103,
   "metadata": {},
   "outputs": [
    {
     "name": "stdout",
     "output_type": "stream",
     "text": [
      "[[ 2.6315659e-02  5.9973025e-01  2.1930096e+00  7.0548636e-01\n",
      "  -1.5317097e-01]\n",
      " [-8.7380695e-01 -4.1602153e-01  1.0885387e-01 -3.0898607e-01\n",
      "  -8.4776938e-02]\n",
      " [-1.4043791e+00  3.3591619e-01 -5.4402769e-01 -6.7013931e-01\n",
      "  -1.1809127e+00]\n",
      " [-1.1672325e+00  1.1680950e+00 -6.8272489e-01  1.2158072e+00\n",
      "   6.5849823e-01]\n",
      " [ 2.0425868e-01  7.9456523e-02  7.2068252e-02 -4.3035421e-01\n",
      "  -3.2767358e-01]\n",
      " [ 2.0000000e+00  3.0000000e+00  5.0000000e+00  7.0000000e+00\n",
      "   1.1000000e+01]\n",
      " [ 1.3000000e+01  1.7000000e+01  1.9000000e+01  2.3000000e+01\n",
      "   2.9000000e+01]\n",
      " [ 3.1000000e+01  3.7000000e+01  4.1000000e+01  4.3000000e+01\n",
      "   4.7000000e+01]\n",
      " [ 5.3000000e+01  5.9000000e+01  6.1000000e+01  6.7000000e+01\n",
      "   7.1000000e+01]\n",
      " [ 7.3000000e+01  7.9000000e+01  8.3000000e+01  8.9000000e+01\n",
      "   9.7000000e+01]]\n"
     ]
    }
   ],
   "source": [
    "concat_kolom = tf.concat([random_tensor, prime_tensor], axis=0)\n",
    "\n",
    "print(concat_kolom.numpy())\n"
   ]
  },
  {
   "cell_type": "markdown",
   "metadata": {},
   "source": [
    "Penggabungan Baris"
   ]
  },
  {
   "cell_type": "code",
   "execution_count": 104,
   "metadata": {},
   "outputs": [
    {
     "name": "stdout",
     "output_type": "stream",
     "text": [
      "[[ 2.6315659e-02  5.9973025e-01  2.1930096e+00  7.0548636e-01\n",
      "  -1.5317097e-01  2.0000000e+00  3.0000000e+00  5.0000000e+00\n",
      "   7.0000000e+00  1.1000000e+01]\n",
      " [-8.7380695e-01 -4.1602153e-01  1.0885387e-01 -3.0898607e-01\n",
      "  -8.4776938e-02  1.3000000e+01  1.7000000e+01  1.9000000e+01\n",
      "   2.3000000e+01  2.9000000e+01]\n",
      " [-1.4043791e+00  3.3591619e-01 -5.4402769e-01 -6.7013931e-01\n",
      "  -1.1809127e+00  3.1000000e+01  3.7000000e+01  4.1000000e+01\n",
      "   4.3000000e+01  4.7000000e+01]\n",
      " [-1.1672325e+00  1.1680950e+00 -6.8272489e-01  1.2158072e+00\n",
      "   6.5849823e-01  5.3000000e+01  5.9000000e+01  6.1000000e+01\n",
      "   6.7000000e+01  7.1000000e+01]\n",
      " [ 2.0425868e-01  7.9456523e-02  7.2068252e-02 -4.3035421e-01\n",
      "  -3.2767358e-01  7.3000000e+01  7.9000000e+01  8.3000000e+01\n",
      "   8.9000000e+01  9.7000000e+01]]\n"
     ]
    }
   ],
   "source": [
    "concat_baris = tf.concat([random_tensor, prime_tensor], axis=1)\n",
    "\n",
    "print(concat_baris.numpy())"
   ]
  },
  {
   "cell_type": "markdown",
   "metadata": {},
   "source": [
    "## Sorting secara DESCENDING\n",
    "\n",
    "Variabel random_tensor"
   ]
  },
  {
   "cell_type": "code",
   "execution_count": 105,
   "metadata": {},
   "outputs": [
    {
     "data": {
      "text/plain": [
       "array([[ 2.1930096 ,  0.70548636,  0.59973025,  0.02631566, -0.15317097],\n",
       "       [ 0.10885387, -0.08477694, -0.30898607, -0.41602153, -0.87380695],\n",
       "       [ 0.3359162 , -0.5440277 , -0.6701393 , -1.1809127 , -1.4043791 ],\n",
       "       [ 1.2158072 ,  1.168095  ,  0.6584982 , -0.6827249 , -1.1672325 ],\n",
       "       [ 0.20425868,  0.07945652,  0.07206825, -0.32767358, -0.4303542 ]],\n",
       "      dtype=float32)"
      ]
     },
     "execution_count": 105,
     "metadata": {},
     "output_type": "execute_result"
    }
   ],
   "source": [
    "sort_random = tf.sort(random_tensor, direction=\"DESCENDING\")\n",
    "\n",
    "sort_random.numpy()\n"
   ]
  },
  {
   "cell_type": "markdown",
   "metadata": {},
   "source": [
    "Variabel prime_tensor"
   ]
  },
  {
   "cell_type": "code",
   "execution_count": 106,
   "metadata": {},
   "outputs": [
    {
     "data": {
      "text/plain": [
       "array([[11.,  7.,  5.,  3.,  2.],\n",
       "       [29., 23., 19., 17., 13.],\n",
       "       [47., 43., 41., 37., 31.],\n",
       "       [71., 67., 61., 59., 53.],\n",
       "       [97., 89., 83., 79., 73.]], dtype=float32)"
      ]
     },
     "execution_count": 106,
     "metadata": {},
     "output_type": "execute_result"
    }
   ],
   "source": [
    "sort_prime = tf.sort(prime_tensor, direction=\"DESCENDING\")\n",
    "\n",
    "sort_prime.numpy()"
   ]
  }
 ],
 "metadata": {
  "kernelspec": {
   "display_name": "Python 3.10.7 64-bit",
   "language": "python",
   "name": "python3"
  },
  "language_info": {
   "codemirror_mode": {
    "name": "ipython",
    "version": 3
   },
   "file_extension": ".py",
   "mimetype": "text/x-python",
   "name": "python",
   "nbconvert_exporter": "python",
   "pygments_lexer": "ipython3",
   "version": "3.10.7"
  },
  "orig_nbformat": 4,
  "vscode": {
   "interpreter": {
    "hash": "4087901ceae5ce8a9d0dd1d65190ccfabacf301eac98c84b3353bfad995f38a2"
   }
  }
 },
 "nbformat": 4,
 "nbformat_minor": 2
}
